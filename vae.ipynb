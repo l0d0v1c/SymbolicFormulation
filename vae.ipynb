{
 "cells": [
  {
   "cell_type": "markdown",
   "id": "2e55d8e1",
   "metadata": {},
   "source": [
    "# Assessment in a variational autoencoder \n",
    "Assessment of FSL language in an autoencoder\n",
    "## Reloading the pretrained neural network"
   ]
  },
  {
   "cell_type": "code",
   "execution_count": 18,
   "id": "presidential-commerce",
   "metadata": {},
   "outputs": [
    {
     "name": "stdout",
     "output_type": "stream",
     "text": [
      "829 formulae for training\n",
      "____ ___    _  _ ____ ___  _ ____ ___ _ ____ __ _\n",
      " |--<  |__>   |\\/| |=== |__> | |--|  |  | [__] | \\|\n",
      "Tensorflow version 2.7.0\n",
      "GPU True\n",
      "WARNING:tensorflow:No training configuration found in the save file, so the model was *not* compiled. Compile it manually.\n",
      "WARNING:tensorflow:No training configuration found in the save file, so the model was *not* compiled. Compile it manually.\n"
     ]
    },
    {
     "name": "stderr",
     "output_type": "stream",
     "text": [
      "2021-12-28 16:23:59.508854: I tensorflow/core/common_runtime/pluggable_device/pluggable_device_factory.cc:305] Could not identify NUMA node of platform GPU ID 0, defaulting to 0. Your kernel may not have been built with NUMA support.\n",
      "2021-12-28 16:23:59.508885: I tensorflow/core/common_runtime/pluggable_device/pluggable_device_factory.cc:271] Created TensorFlow device (/device:GPU:0 with 0 MB memory) -> physical PluggableDevice (device: 0, name: METAL, pci bus id: <undefined>)\n"
     ]
    }
   ],
   "source": [
    "#!pip install tensorflow pandas textdistance\n",
    "import pickle,gzip,sys\n",
    "from rdmediationvaert import AE\n",
    "import pandas as pd\n",
    "cocktails,encodeur=pickle.load(gzip.open(\"cocktails.pklz\"))\n",
    "dataset=[]\n",
    "for m in encodeur:\n",
    "    if len(m)>2:\n",
    "        dataset.append(m)\n",
    "print(f\"{len(dataset)} formulae for training\")\n",
    "model=AE(name='cocktailsvae')\n",
    "model.reload('cocktailsvae')"
   ]
  },
  {
   "cell_type": "markdown",
   "id": "a0e876f5",
   "metadata": {},
   "source": [
    "## Load a formula"
   ]
  },
  {
   "cell_type": "code",
   "execution_count": 7,
   "id": "standard-episode",
   "metadata": {},
   "outputs": [
    {
     "name": "stdout",
     "output_type": "stream",
     "text": [
      "FSL encoded formula : AAAAAAAABBBBαβ\n",
      "Decoded formula:\n"
     ]
    },
    {
     "data": {
      "text/html": [
       "<div>\n",
       "<style scoped>\n",
       "    .dataframe tbody tr th:only-of-type {\n",
       "        vertical-align: middle;\n",
       "    }\n",
       "\n",
       "    .dataframe tbody tr th {\n",
       "        vertical-align: top;\n",
       "    }\n",
       "\n",
       "    .dataframe thead th {\n",
       "        text-align: right;\n",
       "    }\n",
       "</style>\n",
       "<table border=\"1\" class=\"dataframe\">\n",
       "  <thead>\n",
       "    <tr style=\"text-align: right;\">\n",
       "      <th></th>\n",
       "      <th>Component</th>\n",
       "      <th>Rate</th>\n",
       "      <th>minor</th>\n",
       "    </tr>\n",
       "  </thead>\n",
       "  <tbody>\n",
       "    <tr>\n",
       "      <th>0</th>\n",
       "      <td>Light Rum</td>\n",
       "      <td>0.633</td>\n",
       "      <td>False</td>\n",
       "    </tr>\n",
       "    <tr>\n",
       "      <th>1</th>\n",
       "      <td>Lemon Juice</td>\n",
       "      <td>0.365</td>\n",
       "      <td>False</td>\n",
       "    </tr>\n",
       "    <tr>\n",
       "      <th>2</th>\n",
       "      <td>Passion Fruit Syrup</td>\n",
       "      <td>0.001</td>\n",
       "      <td>True</td>\n",
       "    </tr>\n",
       "    <tr>\n",
       "      <th>3</th>\n",
       "      <td>Lime Juice</td>\n",
       "      <td>0.001</td>\n",
       "      <td>True</td>\n",
       "    </tr>\n",
       "    <tr>\n",
       "      <th>4</th>\n",
       "      <td>Formulation</td>\n",
       "      <td>1.000</td>\n",
       "      <td>Non additive</td>\n",
       "    </tr>\n",
       "  </tbody>\n",
       "</table>\n",
       "</div>"
      ],
      "text/plain": [
       "              Component   Rate         minor\n",
       "0             Light Rum  0.633         False\n",
       "1           Lemon Juice  0.365         False\n",
       "2   Passion Fruit Syrup  0.001          True\n",
       "3            Lime Juice  0.001          True\n",
       "4           Formulation  1.000  Non additive"
      ]
     },
     "execution_count": 7,
     "metadata": {},
     "output_type": "execute_result"
    }
   ],
   "source": [
    "c=dataset[0]\n",
    "print(f\"FSL encoded formula : {c}\")\n",
    "print(\"Decoded formula:\")\n",
    "cocktails.decode([c])[0].formulationlist"
   ]
  },
  {
   "cell_type": "markdown",
   "id": "15a00dec",
   "metadata": {},
   "source": [
    "## Find it in the latent space"
   ]
  },
  {
   "cell_type": "code",
   "execution_count": 14,
   "id": "bb748ec6",
   "metadata": {},
   "outputs": [
    {
     "data": {
      "text/plain": [
       "array([[ 1.3890834 , -0.13870159, -0.00822407, -0.00487889, -0.46605322,\n",
       "        -0.79323816,  0.38904732,  0.3041486 ,  0.11699133,  0.273327  ,\n",
       "        -0.09223687,  0.1689527 ,  0.15887997, -0.02809681, -0.21979149,\n",
       "         1.4856585 ,  2.5984235 ,  0.10420097, -0.10993379,  0.44843948,\n",
       "         0.31948787, -0.09654102,  0.31869823, -0.6928068 , -0.618227  ,\n",
       "        -1.1512997 , -0.58362055,  0.09300974,  0.04692227, -0.29087883,\n",
       "         0.08301675, -0.15936494]], dtype=float32)"
      ]
     },
     "execution_count": 14,
     "metadata": {},
     "output_type": "execute_result"
    }
   ],
   "source": [
    "latent=model.encode(c)\n",
    "latent"
   ]
  },
  {
   "cell_type": "markdown",
   "id": "cf848d8d",
   "metadata": {},
   "source": [
    "## Rebuild it back"
   ]
  },
  {
   "cell_type": "code",
   "execution_count": 12,
   "id": "passive-kingdom",
   "metadata": {},
   "outputs": [
    {
     "name": "stderr",
     "output_type": "stream",
     "text": [
      "2021-12-28 16:18:37.736899: I tensorflow/core/grappler/optimizers/custom_graph_optimizer_registry.cc:112] Plugin optimizer for device_type GPU is enabled.\n"
     ]
    },
    {
     "data": {
      "text/plain": [
       "'AAAAAAAABBBBαβ'"
      ]
     },
     "execution_count": 12,
     "metadata": {},
     "output_type": "execute_result"
    }
   ],
   "source": [
    "model.decode(latent)"
   ]
  },
  {
   "cell_type": "markdown",
   "id": "7a973343",
   "metadata": {},
   "source": [
    "## Assess performance"
   ]
  },
  {
   "cell_type": "code",
   "execution_count": 20,
   "id": "given-catholic",
   "metadata": {},
   "outputs": [
    {
     "name": "stderr",
     "output_type": "stream",
     "text": [
      "2021-12-28 16:26:32.896602: I tensorflow/core/grappler/optimizers/custom_graph_optimizer_registry.cc:112] Plugin optimizer for device_type GPU is enabled.\n",
      "2021-12-28 16:26:32.931957: I tensorflow/core/grappler/optimizers/custom_graph_optimizer_registry.cc:112] Plugin optimizer for device_type GPU is enabled.\n"
     ]
    },
    {
     "data": {
      "text/html": [
       "<div>\n",
       "<style scoped>\n",
       "    .dataframe tbody tr th:only-of-type {\n",
       "        vertical-align: middle;\n",
       "    }\n",
       "\n",
       "    .dataframe tbody tr th {\n",
       "        vertical-align: top;\n",
       "    }\n",
       "\n",
       "    .dataframe thead th {\n",
       "        text-align: right;\n",
       "    }\n",
       "</style>\n",
       "<table border=\"1\" class=\"dataframe\">\n",
       "  <thead>\n",
       "    <tr style=\"text-align: right;\">\n",
       "      <th></th>\n",
       "      <th>Formula</th>\n",
       "      <th>Rebuilt</th>\n",
       "    </tr>\n",
       "  </thead>\n",
       "  <tbody>\n",
       "    <tr>\n",
       "      <th>0</th>\n",
       "      <td>AAAAAAAABBBBαβ</td>\n",
       "      <td>AAAAAAAABBBBαβ</td>\n",
       "    </tr>\n",
       "    <tr>\n",
       "      <th>1</th>\n",
       "      <td>AAAAAAAACCDγ</td>\n",
       "      <td>AAAAAAAACCDγ</td>\n",
       "    </tr>\n",
       "    <tr>\n",
       "      <th>2</th>\n",
       "      <td>AAAAAAAADDEE</td>\n",
       "      <td>AAAAAAAADDDE</td>\n",
       "    </tr>\n",
       "    <tr>\n",
       "      <th>3</th>\n",
       "      <td>FFFFFFFFFFFζηθι</td>\n",
       "      <td>FFFFFFFFFFFζηθι</td>\n",
       "    </tr>\n",
       "    <tr>\n",
       "      <th>4</th>\n",
       "      <td>GGGGGGHHHIIκλ</td>\n",
       "      <td>GGGGGGHHHIIκλ</td>\n",
       "    </tr>\n",
       "    <tr>\n",
       "      <th>5</th>\n",
       "      <td>AAAAAAAAAAAμν</td>\n",
       "      <td>AAAAAAAAAAAον</td>\n",
       "    </tr>\n",
       "    <tr>\n",
       "      <th>6</th>\n",
       "      <td>AAAAAAAJJJJJβξ</td>\n",
       "      <td>AAAAAAAJJJJJβξ</td>\n",
       "    </tr>\n",
       "    <tr>\n",
       "      <th>7</th>\n",
       "      <td>AAAAAAAAAAAοπ</td>\n",
       "      <td>AAAAAAAAAAAοπ</td>\n",
       "    </tr>\n",
       "    <tr>\n",
       "      <th>8</th>\n",
       "      <td>HHHHHIIIIIIρ</td>\n",
       "      <td>HHHHHIIIIIIρ</td>\n",
       "    </tr>\n",
       "    <tr>\n",
       "      <th>9</th>\n",
       "      <td>HHHHHHHHHHHστυφ</td>\n",
       "      <td>HHHHHHHHHHHστυφ</td>\n",
       "    </tr>\n",
       "    <tr>\n",
       "      <th>10</th>\n",
       "      <td>DDDDDKKKKKKχ</td>\n",
       "      <td>DDDDDKKKKKKχ</td>\n",
       "    </tr>\n",
       "    <tr>\n",
       "      <th>11</th>\n",
       "      <td>AAABBBBCCKKψ</td>\n",
       "      <td>AAABBBBCKKKψ</td>\n",
       "    </tr>\n",
       "    <tr>\n",
       "      <th>12</th>\n",
       "      <td>CCCKKKKLMω</td>\n",
       "      <td>CCCKKKKLMω</td>\n",
       "    </tr>\n",
       "    <tr>\n",
       "      <th>13</th>\n",
       "      <td>CCMMMMMNNN</td>\n",
       "      <td>CCMMMMMNNN</td>\n",
       "    </tr>\n",
       "    <tr>\n",
       "      <th>14</th>\n",
       "      <td>BBBBMMMMNN</td>\n",
       "      <td>BBBBMMMMNN</td>\n",
       "    </tr>\n",
       "    <tr>\n",
       "      <th>15</th>\n",
       "      <td>BBBBMMMNNNN</td>\n",
       "      <td>BBBBMMMNNNN</td>\n",
       "    </tr>\n",
       "    <tr>\n",
       "      <th>16</th>\n",
       "      <td>DDDMMMMMNNN</td>\n",
       "      <td>DDDMMMMMNNN</td>\n",
       "    </tr>\n",
       "    <tr>\n",
       "      <th>17</th>\n",
       "      <td>KKKMMMMMMMM</td>\n",
       "      <td>KKKMMMMMMMM</td>\n",
       "    </tr>\n",
       "    <tr>\n",
       "      <th>18</th>\n",
       "      <td>GGGGGGIIOOO</td>\n",
       "      <td>GGGGGGIIOOO</td>\n",
       "    </tr>\n",
       "    <tr>\n",
       "      <th>19</th>\n",
       "      <td>CCCMMMNNNN</td>\n",
       "      <td>CCCMMMNNNN</td>\n",
       "    </tr>\n",
       "  </tbody>\n",
       "</table>\n",
       "</div>"
      ],
      "text/plain": [
       "            Formula          Rebuilt\n",
       "0    AAAAAAAABBBBαβ   AAAAAAAABBBBαβ\n",
       "1      AAAAAAAACCDγ     AAAAAAAACCDγ\n",
       "2      AAAAAAAADDEE     AAAAAAAADDDE\n",
       "3   FFFFFFFFFFFζηθι  FFFFFFFFFFFζηθι\n",
       "4     GGGGGGHHHIIκλ    GGGGGGHHHIIκλ\n",
       "5     AAAAAAAAAAAμν    AAAAAAAAAAAον\n",
       "6    AAAAAAAJJJJJβξ   AAAAAAAJJJJJβξ\n",
       "7     AAAAAAAAAAAοπ    AAAAAAAAAAAοπ\n",
       "8      HHHHHIIIIIIρ     HHHHHIIIIIIρ\n",
       "9   HHHHHHHHHHHστυφ  HHHHHHHHHHHστυφ\n",
       "10     DDDDDKKKKKKχ     DDDDDKKKKKKχ\n",
       "11     AAABBBBCCKKψ     AAABBBBCKKKψ\n",
       "12       CCCKKKKLMω       CCCKKKKLMω\n",
       "13       CCMMMMMNNN       CCMMMMMNNN\n",
       "14       BBBBMMMMNN       BBBBMMMMNN\n",
       "15      BBBBMMMNNNN      BBBBMMMNNNN\n",
       "16      DDDMMMMMNNN      DDDMMMMMNNN\n",
       "17      KKKMMMMMMMM      KKKMMMMMMMM\n",
       "18      GGGGGGIIOOO      GGGGGGIIOOO\n",
       "19       CCCMMMNNNN       CCCMMMNNNN"
      ]
     },
     "execution_count": 20,
     "metadata": {},
     "output_type": "execute_result"
    }
   ],
   "source": [
    "rebuilt=[model.decode(model.encode(formula)) for formula in dataset]\n",
    "\n",
    "comparison=pd.DataFrame([[original,new] for original,new in zip(dataset,rebuilt)],\n",
    "                       columns=[\"Formula\",\"Rebuilt\"])\n",
    "comparison.head(20)"
   ]
  },
  {
   "cell_type": "markdown",
   "id": "8b20b6c3",
   "metadata": {},
   "source": [
    "## Sørensen text distance\n"
   ]
  },
  {
   "cell_type": "code",
   "execution_count": 24,
   "id": "centered-running",
   "metadata": {},
   "outputs": [
    {
     "name": "stdout",
     "output_type": "stream",
     "text": [
      "Sørensen similarity for training set: 97.79 %\n",
      "Sørensen similarity for test set: 97.95 %\n"
     ]
    }
   ],
   "source": [
    "from statistics import mean \n",
    "import textdistance\n",
    "train=mean([textdistance.sorensen(orig,new) \n",
    "            for orig,new in zip(dataset[:663],rebuilt[:663])])\n",
    "test=mean([textdistance.sorensen(orig,new) \n",
    "            for orig,new in zip(dataset[663:],rebuilt[663:])])\n",
    "print(f\"Sørensen similarity for training set: {train*100:.2f} %\")\n",
    "print(f\"Sørensen similarity for test set: {test*100:.2f} %\")"
   ]
  },
  {
   "cell_type": "markdown",
   "id": "57543ea4",
   "metadata": {},
   "source": [
    "## Examples of use\n",
    "### Ingredient replacement\n",
    "Select a Formula"
   ]
  },
  {
   "cell_type": "code",
   "execution_count": 31,
   "id": "legitimate-casting",
   "metadata": {},
   "outputs": [
    {
     "name": "stdout",
     "output_type": "stream",
     "text": [
      "FSL encoded formula : AAAAAAAADDEE\n",
      "Decoded formula:\n"
     ]
    },
    {
     "data": {
      "text/html": [
       "<div>\n",
       "<style scoped>\n",
       "    .dataframe tbody tr th:only-of-type {\n",
       "        vertical-align: middle;\n",
       "    }\n",
       "\n",
       "    .dataframe tbody tr th {\n",
       "        vertical-align: top;\n",
       "    }\n",
       "\n",
       "    .dataframe thead th {\n",
       "        text-align: right;\n",
       "    }\n",
       "</style>\n",
       "<table border=\"1\" class=\"dataframe\">\n",
       "  <thead>\n",
       "    <tr style=\"text-align: right;\">\n",
       "      <th></th>\n",
       "      <th>Component</th>\n",
       "      <th>Rate</th>\n",
       "      <th>minor</th>\n",
       "    </tr>\n",
       "  </thead>\n",
       "  <tbody>\n",
       "    <tr>\n",
       "      <th>0</th>\n",
       "      <td>Light Rum</td>\n",
       "      <td>0.594</td>\n",
       "      <td>False</td>\n",
       "    </tr>\n",
       "    <tr>\n",
       "      <th>1</th>\n",
       "      <td>Juice of a Lime</td>\n",
       "      <td>0.206</td>\n",
       "      <td>False</td>\n",
       "    </tr>\n",
       "    <tr>\n",
       "      <th>2</th>\n",
       "      <td>Powdered Sugar</td>\n",
       "      <td>0.200</td>\n",
       "      <td>False</td>\n",
       "    </tr>\n",
       "    <tr>\n",
       "      <th>3</th>\n",
       "      <td>Formulation</td>\n",
       "      <td>1.000</td>\n",
       "      <td>Non additive</td>\n",
       "    </tr>\n",
       "  </tbody>\n",
       "</table>\n",
       "</div>"
      ],
      "text/plain": [
       "          Component   Rate         minor\n",
       "0         Light Rum  0.594         False\n",
       "1   Juice of a Lime  0.206         False\n",
       "2    Powdered Sugar  0.200         False\n",
       "3       Formulation  1.000  Non additive"
      ]
     },
     "execution_count": 31,
     "metadata": {},
     "output_type": "execute_result"
    }
   ],
   "source": [
    "c=dataset[2]\n",
    "print(f\"FSL encoded formula : {c}\")\n",
    "print(\"Decoded formula:\")\n",
    "cocktails.decode([c])[0].formulationlist"
   ]
  },
  {
   "cell_type": "markdown",
   "id": "da43f272",
   "metadata": {},
   "source": [
    "### Find an ingredient in the latent space"
   ]
  },
  {
   "cell_type": "code",
   "execution_count": 33,
   "id": "nuclear-express",
   "metadata": {},
   "outputs": [
    {
     "data": {
      "text/html": [
       "<div>\n",
       "<style scoped>\n",
       "    .dataframe tbody tr th:only-of-type {\n",
       "        vertical-align: middle;\n",
       "    }\n",
       "\n",
       "    .dataframe tbody tr th {\n",
       "        vertical-align: top;\n",
       "    }\n",
       "\n",
       "    .dataframe thead th {\n",
       "        text-align: right;\n",
       "    }\n",
       "</style>\n",
       "<table border=\"1\" class=\"dataframe\">\n",
       "  <thead>\n",
       "    <tr style=\"text-align: right;\">\n",
       "      <th></th>\n",
       "      <th>Component</th>\n",
       "      <th>Rate</th>\n",
       "      <th>minor</th>\n",
       "    </tr>\n",
       "  </thead>\n",
       "  <tbody>\n",
       "    <tr>\n",
       "      <th>0</th>\n",
       "      <td>Powdered Sugar</td>\n",
       "      <td>1.0</td>\n",
       "      <td>False</td>\n",
       "    </tr>\n",
       "    <tr>\n",
       "      <th>1</th>\n",
       "      <td>Formulation</td>\n",
       "      <td>1.0</td>\n",
       "      <td>Non additive</td>\n",
       "    </tr>\n",
       "  </tbody>\n",
       "</table>\n",
       "</div>"
      ],
      "text/plain": [
       "         Component  Rate         minor\n",
       "0   Powdered Sugar   1.0         False\n",
       "1      Formulation   1.0  Non additive"
      ]
     },
     "execution_count": 33,
     "metadata": {},
     "output_type": "execute_result"
    }
   ],
   "source": [
    "cc=\"E\"\n",
    "cocktails.decode([cc])[0].formulationlist"
   ]
  },
  {
   "cell_type": "code",
   "execution_count": 34,
   "id": "postal-daisy",
   "metadata": {},
   "outputs": [
    {
     "data": {
      "text/plain": [
       "array([[ 0.07749687,  0.06850921, -0.12150503,  0.3076481 ,  0.21906431,\n",
       "         0.36602306, -0.23047219, -0.0314557 , -0.11696757,  0.30448595,\n",
       "         0.18171558, -0.35609794,  0.08173011, -0.49204585,  0.01729178,\n",
       "        -0.84248275, -0.36493543,  0.2195618 ,  0.13346879, -1.3478712 ,\n",
       "        -0.31198242, -0.09321836,  0.47335526,  0.7934676 ,  0.14510019,\n",
       "         1.1782285 ,  0.26321998,  0.22008964, -0.24455835,  0.29434013,\n",
       "         0.1674507 , -0.0353418 ]], dtype=float32)"
      ]
     },
     "execution_count": 34,
     "metadata": {},
     "output_type": "execute_result"
    }
   ],
   "source": [
    "B_latent=model.encode(cc)\n",
    "B_latent"
   ]
  },
  {
   "cell_type": "markdown",
   "id": "3cd53ac1",
   "metadata": {},
   "source": [
    "### Remove the ingredient and brew a new cocktail"
   ]
  },
  {
   "cell_type": "code",
   "execution_count": 38,
   "id": "relevant-dominant",
   "metadata": {},
   "outputs": [
    {
     "data": {
      "text/plain": [
       "'AAAAAAAABBBBαβ'"
      ]
     },
     "execution_count": 38,
     "metadata": {},
     "output_type": "execute_result"
    }
   ],
   "source": [
    "new=model.decode(latent-B_latent)\n",
    "new=''.join(sorted(new))\n",
    "new"
   ]
  },
  {
   "cell_type": "code",
   "execution_count": 39,
   "id": "brave-whale",
   "metadata": {},
   "outputs": [
    {
     "data": {
      "text/html": [
       "<div>\n",
       "<style scoped>\n",
       "    .dataframe tbody tr th:only-of-type {\n",
       "        vertical-align: middle;\n",
       "    }\n",
       "\n",
       "    .dataframe tbody tr th {\n",
       "        vertical-align: top;\n",
       "    }\n",
       "\n",
       "    .dataframe thead th {\n",
       "        text-align: right;\n",
       "    }\n",
       "</style>\n",
       "<table border=\"1\" class=\"dataframe\">\n",
       "  <thead>\n",
       "    <tr style=\"text-align: right;\">\n",
       "      <th></th>\n",
       "      <th>Component</th>\n",
       "      <th>Rate</th>\n",
       "      <th>minor</th>\n",
       "    </tr>\n",
       "  </thead>\n",
       "  <tbody>\n",
       "    <tr>\n",
       "      <th>0</th>\n",
       "      <td>Light Rum</td>\n",
       "      <td>0.633</td>\n",
       "      <td>False</td>\n",
       "    </tr>\n",
       "    <tr>\n",
       "      <th>1</th>\n",
       "      <td>Lemon Juice</td>\n",
       "      <td>0.365</td>\n",
       "      <td>False</td>\n",
       "    </tr>\n",
       "    <tr>\n",
       "      <th>2</th>\n",
       "      <td>Passion Fruit Syrup</td>\n",
       "      <td>0.001</td>\n",
       "      <td>True</td>\n",
       "    </tr>\n",
       "    <tr>\n",
       "      <th>3</th>\n",
       "      <td>Lime Juice</td>\n",
       "      <td>0.001</td>\n",
       "      <td>True</td>\n",
       "    </tr>\n",
       "    <tr>\n",
       "      <th>4</th>\n",
       "      <td>Formulation</td>\n",
       "      <td>1.000</td>\n",
       "      <td>Non additive</td>\n",
       "    </tr>\n",
       "  </tbody>\n",
       "</table>\n",
       "</div>"
      ],
      "text/plain": [
       "              Component   Rate         minor\n",
       "0             Light Rum  0.633         False\n",
       "1           Lemon Juice  0.365         False\n",
       "2   Passion Fruit Syrup  0.001          True\n",
       "3            Lime Juice  0.001          True\n",
       "4           Formulation  1.000  Non additive"
      ]
     },
     "execution_count": 39,
     "metadata": {},
     "output_type": "execute_result"
    }
   ],
   "source": [
    "cocktails.decode([new])[0].formulationlist\n"
   ]
  },
  {
   "cell_type": "markdown",
   "id": "23494d36",
   "metadata": {},
   "source": [
    "## Create a new cocktail"
   ]
  },
  {
   "cell_type": "markdown",
   "id": "10d561bb",
   "metadata": {},
   "source": [
    "### Locate a random latent space vector"
   ]
  },
  {
   "cell_type": "code",
   "execution_count": 43,
   "id": "032606a4",
   "metadata": {},
   "outputs": [
    {
     "data": {
      "text/html": [
       "<div>\n",
       "<style scoped>\n",
       "    .dataframe tbody tr th:only-of-type {\n",
       "        vertical-align: middle;\n",
       "    }\n",
       "\n",
       "    .dataframe tbody tr th {\n",
       "        vertical-align: top;\n",
       "    }\n",
       "\n",
       "    .dataframe thead th {\n",
       "        text-align: right;\n",
       "    }\n",
       "</style>\n",
       "<table border=\"1\" class=\"dataframe\">\n",
       "  <thead>\n",
       "    <tr style=\"text-align: right;\">\n",
       "      <th></th>\n",
       "      <th>Component</th>\n",
       "      <th>Rate</th>\n",
       "      <th>minor</th>\n",
       "    </tr>\n",
       "  </thead>\n",
       "  <tbody>\n",
       "    <tr>\n",
       "      <th>0</th>\n",
       "      <td>Sweet Vermouth</td>\n",
       "      <td>0.230</td>\n",
       "      <td>False</td>\n",
       "    </tr>\n",
       "    <tr>\n",
       "      <th>1</th>\n",
       "      <td>Triple Sec</td>\n",
       "      <td>0.124</td>\n",
       "      <td>False</td>\n",
       "    </tr>\n",
       "    <tr>\n",
       "      <th>2</th>\n",
       "      <td>Powdered Sugar</td>\n",
       "      <td>0.141</td>\n",
       "      <td>False</td>\n",
       "    </tr>\n",
       "    <tr>\n",
       "      <th>3</th>\n",
       "      <td>Gin</td>\n",
       "      <td>0.505</td>\n",
       "      <td>False</td>\n",
       "    </tr>\n",
       "    <tr>\n",
       "      <th>4</th>\n",
       "      <td>Formulation</td>\n",
       "      <td>1.000</td>\n",
       "      <td>Non additive</td>\n",
       "    </tr>\n",
       "  </tbody>\n",
       "</table>\n",
       "</div>"
      ],
      "text/plain": [
       "         Component   Rate         minor\n",
       "0   Sweet Vermouth  0.230         False\n",
       "1       Triple Sec  0.124         False\n",
       "2   Powdered Sugar  0.141         False\n",
       "3              Gin  0.505         False\n",
       "4      Formulation  1.000  Non additive"
      ]
     },
     "execution_count": 43,
     "metadata": {},
     "output_type": "execute_result"
    }
   ],
   "source": [
    "brandnew=model.generate()\n",
    "cocktails.decode([brandnew])[0].formulationlist"
   ]
  },
  {
   "cell_type": "code",
   "execution_count": null,
   "id": "3108b469",
   "metadata": {},
   "outputs": [],
   "source": []
  }
 ],
 "metadata": {
  "kernelspec": {
   "display_name": "Python 3 (ipykernel)",
   "language": "python",
   "name": "python3"
  },
  "language_info": {
   "codemirror_mode": {
    "name": "ipython",
    "version": 3
   },
   "file_extension": ".py",
   "mimetype": "text/x-python",
   "name": "python",
   "nbconvert_exporter": "python",
   "pygments_lexer": "ipython3",
   "version": "3.9.2"
  }
 },
 "nbformat": 4,
 "nbformat_minor": 5
}
