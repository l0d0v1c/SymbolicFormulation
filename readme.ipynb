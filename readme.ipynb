{
 "cells": [
  {
   "cell_type": "markdown",
   "id": "guided-range",
   "metadata": {},
   "source": [
    "# Formulation Symbolic language"
   ]
  },
  {
   "cell_type": "markdown",
   "id": "criminal-examination",
   "metadata": {},
   "source": [
    "## Dependencies\n",
    "FSL is based on \"Formulate\" library available at https://github.com/l0d0v1c/formulate and the local unit FSL.py"
   ]
  },
  {
   "cell_type": "code",
   "execution_count": 23,
   "id": "saving-martial",
   "metadata": {},
   "outputs": [],
   "source": [
    "!pip install \"https://github.com/l0d0v1c/formulate/blob/main/dist/formulate-1.3-py3-none-any.whl?raw=true\"\n",
    "!pip install pandas\n",
    "# comment the lines above if installed\n",
    "import pandas as pd\n",
    "from formulate.components import components\n",
    "from FSL import formulationsymboliclanguage"
   ]
  },
  {
   "cell_type": "markdown",
   "id": "equipped-south",
   "metadata": {},
   "source": [
    "## Purpose\n",
    "FSL is a language focused on formulation description and deep learning. A formulation is a list of ingredients and quantities. FSL transforms this recipe in a string inspired by SMILES language used to represent molecules. These strings may be used for instance to train a deep auto encoder and generate new formulations from existing ones\n",
    "## Encoding process\n",
    "Ingredients can be either major or minor. Major components are the ones usually present in significant amount, minor ones are usually additives used to modify properties of the formulation, like colouring or viscosity agents. Major ingredients are encoded in latin alphabet and minor one is greek. To be included in FSL each FORMULATE object must embed a minor <True|False> property.\n",
    "### Example\n",
    "Considering Air as Oxygen/Nitrogen major ingredients and a minor water additive"
   ]
  },
  {
   "cell_type": "code",
   "execution_count": 24,
   "id": "eastern-theology",
   "metadata": {},
   "outputs": [
    {
     "data": {
      "text/html": [
       "<div>\n",
       "<style scoped>\n",
       "    .dataframe tbody tr th:only-of-type {\n",
       "        vertical-align: middle;\n",
       "    }\n",
       "\n",
       "    .dataframe tbody tr th {\n",
       "        vertical-align: top;\n",
       "    }\n",
       "\n",
       "    .dataframe thead th {\n",
       "        text-align: right;\n",
       "    }\n",
       "</style>\n",
       "<table border=\"1\" class=\"dataframe\">\n",
       "  <thead>\n",
       "    <tr style=\"text-align: right;\">\n",
       "      <th></th>\n",
       "      <th>Component</th>\n",
       "      <th>Rate</th>\n",
       "      <th>N</th>\n",
       "      <th>O</th>\n",
       "      <th>H</th>\n",
       "      <th>∆Hf</th>\n",
       "      <th>rho</th>\n",
       "      <th>minor</th>\n",
       "    </tr>\n",
       "  </thead>\n",
       "  <tbody>\n",
       "    <tr>\n",
       "      <th>0</th>\n",
       "      <td>Water</td>\n",
       "      <td>0.01</td>\n",
       "      <td>0.0000</td>\n",
       "      <td>55.50800</td>\n",
       "      <td>111.01700</td>\n",
       "      <td>-15865.9700</td>\n",
       "      <td>1.0</td>\n",
       "      <td>1</td>\n",
       "    </tr>\n",
       "    <tr>\n",
       "      <th>1</th>\n",
       "      <td>Nitrogen</td>\n",
       "      <td>0.80</td>\n",
       "      <td>71.3940</td>\n",
       "      <td>0.00000</td>\n",
       "      <td>0.00000</td>\n",
       "      <td>0.0000</td>\n",
       "      <td>0.01</td>\n",
       "      <td>0</td>\n",
       "    </tr>\n",
       "    <tr>\n",
       "      <th>2</th>\n",
       "      <td>Oxygen</td>\n",
       "      <td>0.19</td>\n",
       "      <td>0.0000</td>\n",
       "      <td>62.50200</td>\n",
       "      <td>0.00000</td>\n",
       "      <td>0.0000</td>\n",
       "      <td>0.01</td>\n",
       "      <td>0</td>\n",
       "    </tr>\n",
       "    <tr>\n",
       "      <th>3</th>\n",
       "      <td>Formulation</td>\n",
       "      <td>1.00</td>\n",
       "      <td>57.1152</td>\n",
       "      <td>12.43046</td>\n",
       "      <td>1.11017</td>\n",
       "      <td>-158.6597</td>\n",
       "      <td>Non additive</td>\n",
       "      <td>Non additive</td>\n",
       "    </tr>\n",
       "  </tbody>\n",
       "</table>\n",
       "</div>"
      ],
      "text/plain": [
       "     Component  Rate        N         O          H         ∆Hf           rho  \\\n",
       "0        Water  0.01   0.0000  55.50800  111.01700 -15865.9700           1.0   \n",
       "1     Nitrogen  0.80  71.3940   0.00000    0.00000      0.0000          0.01   \n",
       "2       Oxygen  0.19   0.0000  62.50200    0.00000      0.0000          0.01   \n",
       "3  Formulation  1.00  57.1152  12.43046    1.11017   -158.6597  Non additive   \n",
       "\n",
       "          minor  \n",
       "0             1  \n",
       "1             0  \n",
       "2             0  \n",
       "3  Non additive  "
      ]
     },
     "execution_count": 24,
     "metadata": {},
     "output_type": "execute_result"
    }
   ],
   "source": [
    "c=components(physical={\"∆Hf\":True,\"rho\":None,\"minor\":None})\n",
    "c.add(\"Water\",\"H2O\",{'∆Hf':-285.83,\"rho\":1.0,'minor':True})\n",
    "c.add(\"Nitrogen\",\"N2\",{'∆Hf':0,\"rho\":0.01,'minor':False})\n",
    "c.add(\"Oxygen\",\"O2\",{'∆Hf':0,\"rho\":0.01,'minor':False})\n",
    "c.setrates({\"Water\":0.01,\"Oxygen\":0.19,'Nitrogen':0.8})\n",
    "c.mixing()"
   ]
  },
  {
   "cell_type": "markdown",
   "id": "exposed-commons",
   "metadata": {},
   "source": [
    "We can now encode the air formulation as"
   ]
  },
  {
   "cell_type": "code",
   "execution_count": 25,
   "id": "awful-student",
   "metadata": {},
   "outputs": [
    {
     "data": {
      "text/html": [
       "<span style='font-size:3em'>ABα</span>"
      ],
      "text/plain": [
       "<IPython.core.display.HTML object>"
      ]
     },
     "metadata": {},
     "output_type": "display_data"
    }
   ],
   "source": [
    "from IPython.display import display, HTML\n",
    "f=formulationsymboliclanguage([c])\n",
    "e=f.encode([c])\n",
    "display(HTML(f\"<span style='font-size:3em'>{e[0]}</span>\"))"
   ]
  },
  {
   "cell_type": "markdown",
   "id": "accepted-implementation",
   "metadata": {},
   "source": [
    "The dictionary of ingredients is"
   ]
  },
  {
   "cell_type": "code",
   "execution_count": 26,
   "id": "fifteen-omaha",
   "metadata": {},
   "outputs": [
    {
     "data": {
      "text/plain": [
       "{'Water': 'α', 'Nitrogen': 'A', 'Oxygen': 'B'}"
      ]
     },
     "execution_count": 26,
     "metadata": {},
     "output_type": "execute_result"
    }
   ],
   "source": [
    "f.dict"
   ]
  },
  {
   "cell_type": "markdown",
   "id": "daily-grocery",
   "metadata": {},
   "source": [
    "### Formulation list with several quantities\n",
    "To train an autoencoder we need a list of formulations having the same ingredients at several quantities. During the FSL initialisation process you can define a \"dose\". In formulation recipes, the quantity of each component is often given in units (oz, parts..). FSL use the same representation:\n",
    "\n",
    "    formulationsymboliclanguage(formulae,granulo=5)\n",
    "\n",
    "means for each ingredient the delta between the maximum and the minimum quantity is splitted in 5 doses. So CCCD means 3 doses of C and one of D. Minor components are only represented by one letter.\n",
    "\n",
    "Let's try encoding a recipes book of cocktails"
   ]
  },
  {
   "cell_type": "code",
   "execution_count": 5,
   "id": "violent-refund",
   "metadata": {},
   "outputs": [
    {
     "data": {
      "text/html": [
       "<div>\n",
       "<style scoped>\n",
       "    .dataframe tbody tr th:only-of-type {\n",
       "        vertical-align: middle;\n",
       "    }\n",
       "\n",
       "    .dataframe tbody tr th {\n",
       "        vertical-align: top;\n",
       "    }\n",
       "\n",
       "    .dataframe thead th {\n",
       "        text-align: right;\n",
       "    }\n",
       "</style>\n",
       "<table border=\"1\" class=\"dataframe\">\n",
       "  <thead>\n",
       "    <tr style=\"text-align: right;\">\n",
       "      <th></th>\n",
       "      <th>Unnamed: 0</th>\n",
       "      <th>nom</th>\n",
       "      <th>categ</th>\n",
       "      <th>i1</th>\n",
       "      <th>d1</th>\n",
       "      <th>i2</th>\n",
       "      <th>d2</th>\n",
       "      <th>i3</th>\n",
       "      <th>d3</th>\n",
       "      <th>i4</th>\n",
       "      <th>d4</th>\n",
       "      <th>i5</th>\n",
       "      <th>d5</th>\n",
       "      <th>i6</th>\n",
       "      <th>d6</th>\n",
       "    </tr>\n",
       "  </thead>\n",
       "  <tbody>\n",
       "    <tr>\n",
       "      <th>0</th>\n",
       "      <td>0</td>\n",
       "      <td>Gauguin</td>\n",
       "      <td>Cocktail Classics</td>\n",
       "      <td>Light Rum</td>\n",
       "      <td>2.0</td>\n",
       "      <td>Passion Fruit Syrup</td>\n",
       "      <td>1.0</td>\n",
       "      <td>Lemon Juice</td>\n",
       "      <td>1.00</td>\n",
       "      <td>Lime Juice</td>\n",
       "      <td>1.00</td>\n",
       "      <td>NaN</td>\n",
       "      <td>NaN</td>\n",
       "      <td>NaN</td>\n",
       "      <td>NaN</td>\n",
       "    </tr>\n",
       "    <tr>\n",
       "      <th>1</th>\n",
       "      <td>1</td>\n",
       "      <td>Fort Lauderdale</td>\n",
       "      <td>Cocktail Classics</td>\n",
       "      <td>Light Rum</td>\n",
       "      <td>1.5</td>\n",
       "      <td>Sweet Vermouth</td>\n",
       "      <td>0.5</td>\n",
       "      <td>Juice of Orange</td>\n",
       "      <td>0.25</td>\n",
       "      <td>Juice of a Lime</td>\n",
       "      <td>0.25</td>\n",
       "      <td>NaN</td>\n",
       "      <td>NaN</td>\n",
       "      <td>NaN</td>\n",
       "      <td>NaN</td>\n",
       "    </tr>\n",
       "    <tr>\n",
       "      <th>2</th>\n",
       "      <td>2</td>\n",
       "      <td>Apple Pie</td>\n",
       "      <td>Cordials and Liqueurs</td>\n",
       "      <td>Apple schnapps</td>\n",
       "      <td>3.0</td>\n",
       "      <td>Cinnamon schnapps</td>\n",
       "      <td>1.0</td>\n",
       "      <td>NaN</td>\n",
       "      <td>NaN</td>\n",
       "      <td>NaN</td>\n",
       "      <td>NaN</td>\n",
       "      <td>NaN</td>\n",
       "      <td>NaN</td>\n",
       "      <td>NaN</td>\n",
       "      <td>NaN</td>\n",
       "    </tr>\n",
       "    <tr>\n",
       "      <th>3</th>\n",
       "      <td>3</td>\n",
       "      <td>Cuban Cocktail No. 1</td>\n",
       "      <td>Cocktail Classics</td>\n",
       "      <td>Juice of a Lime</td>\n",
       "      <td>0.5</td>\n",
       "      <td>Powdered Sugar</td>\n",
       "      <td>0.5</td>\n",
       "      <td>Light Rum</td>\n",
       "      <td>2.00</td>\n",
       "      <td>NaN</td>\n",
       "      <td>NaN</td>\n",
       "      <td>NaN</td>\n",
       "      <td>NaN</td>\n",
       "      <td>NaN</td>\n",
       "      <td>NaN</td>\n",
       "    </tr>\n",
       "    <tr>\n",
       "      <th>4</th>\n",
       "      <td>4</td>\n",
       "      <td>Cool Carlos</td>\n",
       "      <td>Cocktail Classics</td>\n",
       "      <td>Dark rum</td>\n",
       "      <td>1.5</td>\n",
       "      <td>Cranberry Juice</td>\n",
       "      <td>2.0</td>\n",
       "      <td>Pineapple Juice</td>\n",
       "      <td>2.00</td>\n",
       "      <td>Orange curacao</td>\n",
       "      <td>1.00</td>\n",
       "      <td>Sour Mix</td>\n",
       "      <td>1.0</td>\n",
       "      <td>NaN</td>\n",
       "      <td>NaN</td>\n",
       "    </tr>\n",
       "  </tbody>\n",
       "</table>\n",
       "</div>"
      ],
      "text/plain": [
       "   Unnamed: 0                   nom                  categ                i1  \\\n",
       "0           0               Gauguin      Cocktail Classics         Light Rum   \n",
       "1           1       Fort Lauderdale      Cocktail Classics         Light Rum   \n",
       "2           2             Apple Pie  Cordials and Liqueurs    Apple schnapps   \n",
       "3           3  Cuban Cocktail No. 1      Cocktail Classics   Juice of a Lime   \n",
       "4           4           Cool Carlos      Cocktail Classics          Dark rum   \n",
       "\n",
       "    d1                    i2   d2                i3    d3                i4  \\\n",
       "0  2.0   Passion Fruit Syrup  1.0       Lemon Juice  1.00        Lime Juice   \n",
       "1  1.5        Sweet Vermouth  0.5   Juice of Orange  0.25   Juice of a Lime   \n",
       "2  3.0     Cinnamon schnapps  1.0               NaN   NaN               NaN   \n",
       "3  0.5        Powdered Sugar  0.5         Light Rum  2.00               NaN   \n",
       "4  1.5       Cranberry Juice  2.0   Pineapple Juice  2.00    Orange curacao   \n",
       "\n",
       "     d4         i5   d5   i6  d6  \n",
       "0  1.00        NaN  NaN  NaN NaN  \n",
       "1  0.25        NaN  NaN  NaN NaN  \n",
       "2   NaN        NaN  NaN  NaN NaN  \n",
       "3   NaN        NaN  NaN  NaN NaN  \n",
       "4  1.00   Sour Mix  1.0  NaN NaN  "
      ]
     },
     "execution_count": 5,
     "metadata": {},
     "output_type": "execute_result"
    }
   ],
   "source": [
    "import pandas as pd\n",
    "df=pd.read_excel(\"cocktails.xlsx\")\n",
    "df.head()"
   ]
  },
  {
   "cell_type": "markdown",
   "id": "trying-melissa",
   "metadata": {},
   "source": [
    "Now we have to transform this sheet in a list of formulations. As many ingredients are only used a few times they are not usable for a deep learning training. So we can limit the major ingredients list to the ones uses in more than 30 recipes. The rare ingredients are represented as minors"
   ]
  },
  {
   "cell_type": "code",
   "execution_count": 27,
   "id": "smaller-isolation",
   "metadata": {},
   "outputs": [
    {
     "name": "stdout",
     "output_type": "stream",
     "text": [
      "based on 23 ingredients\n"
     ]
    }
   ],
   "source": [
    "from collections import Counter\n",
    "ingredients=[]\n",
    "for i in range(1,7):\n",
    "    for j in df[f\"i{i}\"].tolist():\n",
    "        ingredients.append(j)\n",
    "ingredients=Counter(ingredients)\n",
    "composant={}\n",
    "for name,cnt in ingredients.items():\n",
    "    if cnt>30:\n",
    "        composant[name]={'minor':False}\n",
    "print(f\"based on {len(composant)} ingredients\")\n",
    "listcompo=[]\n",
    "for i,j in df.iterrows():\n",
    "    try:\n",
    "        cp=components(physical={\"minor\":None})\n",
    "        rates={}\n",
    "        for k in range(1,7):\n",
    "            if j[f\"d{k}\"]==j[f\"d{k}\"] and j[f\"i{k}\"]==j[f\"i{k}\"] : #not nan\n",
    "                name=j[f\"i{k}\"]\n",
    "                if name in composant:\n",
    "                    rate=j[f\"d{k}\"]\n",
    "                    cp.add(name,\"\",{'minor':False})\n",
    "                    rates[name]=rate\n",
    "                else:\n",
    "                    cp.add(name,\"\",{'minor':True})\n",
    "                    rates[name]=0.001\n",
    "                    \n",
    "        cp.setrates(rates)\n",
    "        cp.mixing()\n",
    "    except:\n",
    "        pass\n",
    "    listcompo.append(cp)"
   ]
  },
  {
   "cell_type": "markdown",
   "id": "cutting-header",
   "metadata": {},
   "source": [
    "For instance we can inpect the first cocktail"
   ]
  },
  {
   "cell_type": "code",
   "execution_count": 28,
   "id": "double-tobacco",
   "metadata": {},
   "outputs": [
    {
     "data": {
      "text/html": [
       "<div>\n",
       "<style scoped>\n",
       "    .dataframe tbody tr th:only-of-type {\n",
       "        vertical-align: middle;\n",
       "    }\n",
       "\n",
       "    .dataframe tbody tr th {\n",
       "        vertical-align: top;\n",
       "    }\n",
       "\n",
       "    .dataframe thead th {\n",
       "        text-align: right;\n",
       "    }\n",
       "</style>\n",
       "<table border=\"1\" class=\"dataframe\">\n",
       "  <thead>\n",
       "    <tr style=\"text-align: right;\">\n",
       "      <th></th>\n",
       "      <th>Component</th>\n",
       "      <th>Rate</th>\n",
       "      <th>minor</th>\n",
       "    </tr>\n",
       "  </thead>\n",
       "  <tbody>\n",
       "    <tr>\n",
       "      <th>0</th>\n",
       "      <td>Light Rum</td>\n",
       "      <td>0.666</td>\n",
       "      <td>0</td>\n",
       "    </tr>\n",
       "    <tr>\n",
       "      <th>1</th>\n",
       "      <td>Passion Fruit Syrup</td>\n",
       "      <td>0.000</td>\n",
       "      <td>1</td>\n",
       "    </tr>\n",
       "    <tr>\n",
       "      <th>2</th>\n",
       "      <td>Lemon Juice</td>\n",
       "      <td>0.333</td>\n",
       "      <td>0</td>\n",
       "    </tr>\n",
       "    <tr>\n",
       "      <th>3</th>\n",
       "      <td>Lime Juice</td>\n",
       "      <td>0.000</td>\n",
       "      <td>1</td>\n",
       "    </tr>\n",
       "    <tr>\n",
       "      <th>4</th>\n",
       "      <td>Formulation</td>\n",
       "      <td>1.000</td>\n",
       "      <td>Non additive</td>\n",
       "    </tr>\n",
       "  </tbody>\n",
       "</table>\n",
       "</div>"
      ],
      "text/plain": [
       "              Component   Rate         minor\n",
       "0             Light Rum  0.666             0\n",
       "1   Passion Fruit Syrup  0.000             1\n",
       "2           Lemon Juice  0.333             0\n",
       "3            Lime Juice  0.000             1\n",
       "4           Formulation  1.000  Non additive"
      ]
     },
     "execution_count": 28,
     "metadata": {},
     "output_type": "execute_result"
    }
   ],
   "source": [
    "listcompo[0].formulationlist"
   ]
  },
  {
   "cell_type": "markdown",
   "id": "recovered-movement",
   "metadata": {},
   "source": [
    "Then encode the full recipe's book"
   ]
  },
  {
   "cell_type": "code",
   "execution_count": 29,
   "id": "informal-franklin",
   "metadata": {},
   "outputs": [],
   "source": [
    "cocktails=formulationsymboliclanguage(listcompo,granulo=10,verbose=False)"
   ]
  },
  {
   "cell_type": "markdown",
   "id": "north-alexandria",
   "metadata": {},
   "source": [
    "As the number of minor ingredients is limited to the length of the greek alphabet some of them are not encoded. It is possible to use longer alphabet by changing the lists \n",
    "\n",
    "    formulationsymboliclanguage.major=list(\"ABCDEFGHIJKLMNOPQRSTUVWXYZ\")\n",
    "    formulationsymboliclanguage.major=list('αβγδεζηθικλμνξοπρστυφχψω')\n",
    "    \n",
    "so we can now get an encoded training set. You may display unencoded ingredients by specifying verbose=True\n",
    "    "
   ]
  },
  {
   "cell_type": "code",
   "execution_count": 30,
   "id": "naked-chuck",
   "metadata": {},
   "outputs": [],
   "source": [
    "encoded=cocktails.encode(listcompo)"
   ]
  },
  {
   "cell_type": "markdown",
   "id": "signal-holocaust",
   "metadata": {},
   "source": [
    "The first cocktail is encoded as "
   ]
  },
  {
   "cell_type": "code",
   "execution_count": 34,
   "id": "robust-button",
   "metadata": {},
   "outputs": [
    {
     "data": {
      "text/html": [
       "<div style='font-size:3em;'>Encoded recipe 0 : AAAAAAAABBBBαβ</div>"
      ],
      "text/plain": [
       "<IPython.core.display.HTML object>"
      ]
     },
     "metadata": {},
     "output_type": "display_data"
    }
   ],
   "source": [
    "display(HTML(f\"<div style='font-size:3em;'>Encoded recipe 0 : {encoded[0]}</div>\"))\n"
   ]
  },
  {
   "cell_type": "markdown",
   "id": "independent-writer",
   "metadata": {},
   "source": [
    "If you check what means A"
   ]
  },
  {
   "cell_type": "code",
   "execution_count": 16,
   "id": "healthy-certificate",
   "metadata": {},
   "outputs": [
    {
     "name": "stdout",
     "output_type": "stream",
     "text": [
      "Ingredient:  Light Rum\n",
      "Minimum in recipes : 0.04, maximum: 1.0\n",
      "One dose of  Light Rum is 0.096\n"
     ]
    }
   ],
   "source": [
    "name={j:i for i,j in cocktails.dict.items()}['A']\n",
    "print(f\"Ingredient: {name}\")\n",
    "print(f\"Minimum in recipes : {cocktails.min[name]}, maximum: {cocktails.max[name]}\")\n",
    "print(f\"One dose of {name} is {cocktails.delta[name]}\")"
   ]
  },
  {
   "cell_type": "markdown",
   "id": "dominant-filter",
   "metadata": {},
   "source": [
    "Encoding is a balance between accuracy (as the quantities are encoded as a number of doses) and the number of available recipes. Having long encoded FSL strings gives a good accuracy but requires a lot of recipes to train a deep encoder. For instance, let's decode the encoded recipe"
   ]
  },
  {
   "cell_type": "code",
   "execution_count": 40,
   "id": "active-london",
   "metadata": {},
   "outputs": [
    {
     "data": {
      "text/html": [
       "<span style='font-size:2em;'>FSL encoded recipe is:</span>"
      ],
      "text/plain": [
       "<IPython.core.display.HTML object>"
      ]
     },
     "metadata": {},
     "output_type": "display_data"
    },
    {
     "data": {
      "text/html": [
       "<div>\n",
       "<style scoped>\n",
       "    .dataframe tbody tr th:only-of-type {\n",
       "        vertical-align: middle;\n",
       "    }\n",
       "\n",
       "    .dataframe tbody tr th {\n",
       "        vertical-align: top;\n",
       "    }\n",
       "\n",
       "    .dataframe thead th {\n",
       "        text-align: right;\n",
       "    }\n",
       "</style>\n",
       "<table border=\"1\" class=\"dataframe\">\n",
       "  <thead>\n",
       "    <tr style=\"text-align: right;\">\n",
       "      <th></th>\n",
       "      <th>Component</th>\n",
       "      <th>Rate</th>\n",
       "      <th>minor</th>\n",
       "    </tr>\n",
       "  </thead>\n",
       "  <tbody>\n",
       "    <tr>\n",
       "      <th>0</th>\n",
       "      <td>Light Rum</td>\n",
       "      <td>0.633</td>\n",
       "      <td>False</td>\n",
       "    </tr>\n",
       "    <tr>\n",
       "      <th>1</th>\n",
       "      <td>Lemon Juice</td>\n",
       "      <td>0.365</td>\n",
       "      <td>False</td>\n",
       "    </tr>\n",
       "    <tr>\n",
       "      <th>2</th>\n",
       "      <td>Passion Fruit Syrup</td>\n",
       "      <td>0.001</td>\n",
       "      <td>True</td>\n",
       "    </tr>\n",
       "    <tr>\n",
       "      <th>3</th>\n",
       "      <td>Lime Juice</td>\n",
       "      <td>0.001</td>\n",
       "      <td>True</td>\n",
       "    </tr>\n",
       "    <tr>\n",
       "      <th>4</th>\n",
       "      <td>Formulation</td>\n",
       "      <td>1.000</td>\n",
       "      <td>Non additive</td>\n",
       "    </tr>\n",
       "  </tbody>\n",
       "</table>\n",
       "</div>"
      ],
      "text/plain": [
       "              Component   Rate         minor\n",
       "0             Light Rum  0.633         False\n",
       "1           Lemon Juice  0.365         False\n",
       "2   Passion Fruit Syrup  0.001          True\n",
       "3            Lime Juice  0.001          True\n",
       "4           Formulation  1.000  Non additive"
      ]
     },
     "metadata": {},
     "output_type": "display_data"
    },
    {
     "data": {
      "text/html": [
       "<span style='font-size:2em;'>And the original recipe was:</span>"
      ],
      "text/plain": [
       "<IPython.core.display.HTML object>"
      ]
     },
     "metadata": {},
     "output_type": "display_data"
    },
    {
     "data": {
      "text/html": [
       "<div>\n",
       "<style scoped>\n",
       "    .dataframe tbody tr th:only-of-type {\n",
       "        vertical-align: middle;\n",
       "    }\n",
       "\n",
       "    .dataframe tbody tr th {\n",
       "        vertical-align: top;\n",
       "    }\n",
       "\n",
       "    .dataframe thead th {\n",
       "        text-align: right;\n",
       "    }\n",
       "</style>\n",
       "<table border=\"1\" class=\"dataframe\">\n",
       "  <thead>\n",
       "    <tr style=\"text-align: right;\">\n",
       "      <th></th>\n",
       "      <th>Component</th>\n",
       "      <th>Rate</th>\n",
       "      <th>minor</th>\n",
       "    </tr>\n",
       "  </thead>\n",
       "  <tbody>\n",
       "    <tr>\n",
       "      <th>0</th>\n",
       "      <td>Light Rum</td>\n",
       "      <td>0.666</td>\n",
       "      <td>0</td>\n",
       "    </tr>\n",
       "    <tr>\n",
       "      <th>1</th>\n",
       "      <td>Passion Fruit Syrup</td>\n",
       "      <td>0.000</td>\n",
       "      <td>1</td>\n",
       "    </tr>\n",
       "    <tr>\n",
       "      <th>2</th>\n",
       "      <td>Lemon Juice</td>\n",
       "      <td>0.333</td>\n",
       "      <td>0</td>\n",
       "    </tr>\n",
       "    <tr>\n",
       "      <th>3</th>\n",
       "      <td>Lime Juice</td>\n",
       "      <td>0.000</td>\n",
       "      <td>1</td>\n",
       "    </tr>\n",
       "    <tr>\n",
       "      <th>4</th>\n",
       "      <td>Formulation</td>\n",
       "      <td>1.000</td>\n",
       "      <td>Non additive</td>\n",
       "    </tr>\n",
       "  </tbody>\n",
       "</table>\n",
       "</div>"
      ],
      "text/plain": [
       "              Component   Rate         minor\n",
       "0             Light Rum  0.666             0\n",
       "1   Passion Fruit Syrup  0.000             1\n",
       "2           Lemon Juice  0.333             0\n",
       "3            Lime Juice  0.000             1\n",
       "4           Formulation  1.000  Non additive"
      ]
     },
     "metadata": {},
     "output_type": "display_data"
    }
   ],
   "source": [
    "display(HTML(\"<span style='font-size:2em;'>FSL encoded recipe is:</span>\"))\n",
    "display(cocktails.decode([encoded[0]])[0].formulationlist)\n",
    "display(HTML(\"<span style='font-size:2em;'>And the original recipe was:</span>\"))\n",
    "display(listcompo[0].formulationlist)"
   ]
  },
  {
   "cell_type": "markdown",
   "id": "heard-centre",
   "metadata": {},
   "source": [
    "# Limits of the current version\n",
    "This published version is limited to\n",
    "* unordered ingredients: A development version is in progress to take into account a complete sequential manufacturing process\n",
    "* The cocktail generation by autoencoder's latent space exploration has been successfully tested for cocktails but it has to be assessed in other contexts"
   ]
  },
  {
   "cell_type": "markdown",
   "id": "ahead-baseball",
   "metadata": {},
   "source": [
    "# Licence\n",
    "MIT\n",
    "\n",
    "2021/2022 https://www.rd-mediation.com"
   ]
  },
  {
   "cell_type": "code",
   "execution_count": null,
   "id": "tough-hours",
   "metadata": {},
   "outputs": [],
   "source": []
  }
 ],
 "metadata": {
  "kernelspec": {
   "display_name": "Python 3",
   "language": "python",
   "name": "python3"
  },
  "language_info": {
   "codemirror_mode": {
    "name": "ipython",
    "version": 3
   },
   "file_extension": ".py",
   "mimetype": "text/x-python",
   "name": "python",
   "nbconvert_exporter": "python",
   "pygments_lexer": "ipython3",
   "version": "3.8.8"
  }
 },
 "nbformat": 4,
 "nbformat_minor": 5
}
