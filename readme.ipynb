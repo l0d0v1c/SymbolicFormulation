{
 "cells": [
  {
   "cell_type": "markdown",
   "id": "guided-range",
   "metadata": {},
   "source": [
    "# Formulation Symbolic language"
   ]
  },
  {
   "cell_type": "markdown",
   "id": "criminal-examination",
   "metadata": {},
   "source": [
    "## Dependencies\n",
    "FSL is based on \"Formulate\" library available at https://github.com/l0d0v1c/formulate and the local unit FSL.py"
   ]
  },
  {
   "cell_type": "code",
   "execution_count": 1,
   "id": "saving-martial",
   "metadata": {},
   "outputs": [
    {
     "name": "stdout",
     "output_type": "stream",
     "text": [
      "Requirement already satisfied: formulate==1.3 from https://github.com/l0d0v1c/formulate/blob/main/dist/formulate-1.3-py3-none-any.whl?raw=true in /Users/pro/miniforge3/envs/m1/lib/python3.8/site-packages (1.3)\n",
      "Requirement already satisfied: pybase64 in /Users/pro/miniforge3/envs/m1/lib/python3.8/site-packages (from formulate==1.3) (1.2.0)\n",
      "Requirement already satisfied: numpy in /Users/pro/miniforge3/envs/m1/lib/python3.8/site-packages (from formulate==1.3) (1.20.2)\n",
      "Requirement already satisfied: pysmiles in /Users/pro/miniforge3/envs/m1/lib/python3.8/site-packages (from formulate==1.3) (1.0.1)\n",
      "Requirement already satisfied: pbr in /Users/pro/miniforge3/envs/m1/lib/python3.8/site-packages (from pysmiles->formulate==1.3) (5.5.1)\n",
      "Requirement already satisfied: networkx~=2.0 in /Users/pro/miniforge3/envs/m1/lib/python3.8/site-packages (from pysmiles->formulate==1.3) (2.5.1)\n",
      "Requirement already satisfied: decorator<5,>=4.3 in /Users/pro/miniforge3/envs/m1/lib/python3.8/site-packages (from networkx~=2.0->pysmiles->formulate==1.3) (4.4.2)\n",
      "Requirement already satisfied: pandas in /Users/pro/miniforge3/envs/m1/lib/python3.8/site-packages (1.3.0)\n",
      "Requirement already satisfied: python-dateutil>=2.7.3 in /Users/pro/miniforge3/envs/m1/lib/python3.8/site-packages (from pandas) (2.8.1)\n",
      "Requirement already satisfied: numpy>=1.17.3 in /Users/pro/miniforge3/envs/m1/lib/python3.8/site-packages (from pandas) (1.20.2)\n",
      "Requirement already satisfied: pytz>=2017.3 in /Users/pro/miniforge3/envs/m1/lib/python3.8/site-packages (from pandas) (2021.1)\n",
      "Requirement already satisfied: six>=1.5 in /Users/pro/miniforge3/envs/m1/lib/python3.8/site-packages (from python-dateutil>=2.7.3->pandas) (1.15.0)\n",
      "Requirement already satisfied: openpyxl in /Users/pro/miniforge3/envs/m1/lib/python3.8/site-packages (3.0.6)\n",
      "Requirement already satisfied: et-xmlfile in /Users/pro/miniforge3/envs/m1/lib/python3.8/site-packages (from openpyxl) (1.0.1)\n",
      "Requirement already satisfied: jdcal in /Users/pro/miniforge3/envs/m1/lib/python3.8/site-packages (from openpyxl) (1.4.1)\n"
     ]
    }
   ],
   "source": [
    "!pip install \"https://github.com/l0d0v1c/formulate/blob/main/dist/formulate-1.3-py3-none-any.whl?raw=true\"\n",
    "!pip install pandas\n",
    "!pip install openpyxl\n",
    "# comment the lines above if installed\n",
    "import pandas as pd\n",
    "from formulate.components import components\n",
    "from FSL import formulationsymboliclanguage"
   ]
  },
  {
   "cell_type": "markdown",
   "id": "equipped-south",
   "metadata": {},
   "source": [
    "## Purpose\n",
    "FSL is a language focused on formulation description and deep learning. A formulation is a list of ingredients and quantities. FSL transforms this recipe in a string inspired by SMILES language used to represent molecules. These strings may be used for instance to train a deep auto encoder and generate new formulations from existing ones\n",
    "## Encoding process\n",
    "Ingredients can be either major or minor. Major components are the ones usually present in significant amount, minor ones are usually additives used to modify properties of the formulation, like colouring or viscosity agents. Major ingredients are encoded in latin alphabet and minor one is greek. To be included in FSL each FORMULATE object must embed a minor <True|False> property.\n",
    "### Example\n",
    "Considering Air as Oxygen/Nitrogen major ingredients and a minor water additive"
   ]
  },
  {
   "cell_type": "code",
   "execution_count": 2,
   "id": "eastern-theology",
   "metadata": {},
   "outputs": [
    {
     "data": {
      "text/html": [
       "<div>\n",
       "<style scoped>\n",
       "    .dataframe tbody tr th:only-of-type {\n",
       "        vertical-align: middle;\n",
       "    }\n",
       "\n",
       "    .dataframe tbody tr th {\n",
       "        vertical-align: top;\n",
       "    }\n",
       "\n",
       "    .dataframe thead th {\n",
       "        text-align: right;\n",
       "    }\n",
       "</style>\n",
       "<table border=\"1\" class=\"dataframe\">\n",
       "  <thead>\n",
       "    <tr style=\"text-align: right;\">\n",
       "      <th></th>\n",
       "      <th>Component</th>\n",
       "      <th>Rate</th>\n",
       "      <th>N</th>\n",
       "      <th>O</th>\n",
       "      <th>H</th>\n",
       "      <th>∆Hf</th>\n",
       "      <th>rho</th>\n",
       "      <th>minor</th>\n",
       "    </tr>\n",
       "  </thead>\n",
       "  <tbody>\n",
       "    <tr>\n",
       "      <th>0</th>\n",
       "      <td>Water</td>\n",
       "      <td>0.01</td>\n",
       "      <td>0.0000</td>\n",
       "      <td>55.50800</td>\n",
       "      <td>111.01700</td>\n",
       "      <td>-15865.9700</td>\n",
       "      <td>1.0</td>\n",
       "      <td>1</td>\n",
       "    </tr>\n",
       "    <tr>\n",
       "      <th>1</th>\n",
       "      <td>Nitrogen</td>\n",
       "      <td>0.80</td>\n",
       "      <td>71.3940</td>\n",
       "      <td>0.00000</td>\n",
       "      <td>0.00000</td>\n",
       "      <td>0.0000</td>\n",
       "      <td>0.01</td>\n",
       "      <td>0</td>\n",
       "    </tr>\n",
       "    <tr>\n",
       "      <th>2</th>\n",
       "      <td>Oxygen</td>\n",
       "      <td>0.19</td>\n",
       "      <td>0.0000</td>\n",
       "      <td>62.50200</td>\n",
       "      <td>0.00000</td>\n",
       "      <td>0.0000</td>\n",
       "      <td>0.01</td>\n",
       "      <td>0</td>\n",
       "    </tr>\n",
       "    <tr>\n",
       "      <th>3</th>\n",
       "      <td>Formulation</td>\n",
       "      <td>1.00</td>\n",
       "      <td>57.1152</td>\n",
       "      <td>12.43046</td>\n",
       "      <td>1.11017</td>\n",
       "      <td>-158.6597</td>\n",
       "      <td>Non additive</td>\n",
       "      <td>Non additive</td>\n",
       "    </tr>\n",
       "  </tbody>\n",
       "</table>\n",
       "</div>"
      ],
      "text/plain": [
       "     Component  Rate        N         O          H         ∆Hf           rho  \\\n",
       "0        Water  0.01   0.0000  55.50800  111.01700 -15865.9700           1.0   \n",
       "1     Nitrogen  0.80  71.3940   0.00000    0.00000      0.0000          0.01   \n",
       "2       Oxygen  0.19   0.0000  62.50200    0.00000      0.0000          0.01   \n",
       "3  Formulation  1.00  57.1152  12.43046    1.11017   -158.6597  Non additive   \n",
       "\n",
       "          minor  \n",
       "0             1  \n",
       "1             0  \n",
       "2             0  \n",
       "3  Non additive  "
      ]
     },
     "execution_count": 2,
     "metadata": {},
     "output_type": "execute_result"
    }
   ],
   "source": [
    "c=components(physical={\"∆Hf\":True,\"rho\":None,\"minor\":None})\n",
    "c.add(\"Water\",\"H2O\",{'∆Hf':-285.83,\"rho\":1.0,'minor':True})\n",
    "c.add(\"Nitrogen\",\"N2\",{'∆Hf':0,\"rho\":0.01,'minor':False})\n",
    "c.add(\"Oxygen\",\"O2\",{'∆Hf':0,\"rho\":0.01,'minor':False})\n",
    "c.setrates({\"Water\":0.01,\"Oxygen\":0.19,'Nitrogen':0.8})\n",
    "c.mixing()"
   ]
  },
  {
   "cell_type": "markdown",
   "id": "exposed-commons",
   "metadata": {},
   "source": [
    "We can now encode the air formulation as"
   ]
  },
  {
   "cell_type": "code",
   "execution_count": 3,
   "id": "awful-student",
   "metadata": {},
   "outputs": [
    {
     "data": {
      "text/html": [
       "<span style='font-size:3em'>ABα</span>"
      ],
      "text/plain": [
       "<IPython.core.display.HTML object>"
      ]
     },
     "metadata": {},
     "output_type": "display_data"
    }
   ],
   "source": [
    "from IPython.display import display, HTML\n",
    "f=formulationsymboliclanguage([c])\n",
    "e=f.encode([c])\n",
    "display(HTML(f\"<span style='font-size:3em'>{e[0]}</span>\"))"
   ]
  },
  {
   "cell_type": "markdown",
   "id": "accepted-implementation",
   "metadata": {},
   "source": [
    "The dictionary of ingredients is"
   ]
  },
  {
   "cell_type": "code",
   "execution_count": 4,
   "id": "fifteen-omaha",
   "metadata": {},
   "outputs": [
    {
     "data": {
      "text/plain": [
       "{'Water': 'α', 'Nitrogen': 'A', 'Oxygen': 'B'}"
      ]
     },
     "execution_count": 4,
     "metadata": {},
     "output_type": "execute_result"
    }
   ],
   "source": [
    "f.dict"
   ]
  },
  {
   "cell_type": "markdown",
   "id": "daily-grocery",
   "metadata": {},
   "source": [
    "### Formulation list with several quantities\n",
    "To train an autoencoder we need a list of formulations having the same ingredients at several quantities. During the FSL initialisation process you can define a \"dose\". In formulation recipes, the quantity of each component is often given in units (oz, parts..). FSL use the same representation:\n",
    "\n",
    "    formulationsymboliclanguage(formulae,granulo=5)\n",
    "\n",
    "means for each ingredient the delta between the maximum and the minimum quantity is splitted in 5 doses. So CCCD means 3 doses of C and one of D. Minor components are only represented by one letter.\n",
    "\n",
    "Let's try encoding a recipes book of cocktails"
   ]
  },
  {
   "cell_type": "code",
   "execution_count": 5,
   "id": "violent-refund",
   "metadata": {},
   "outputs": [
    {
     "data": {
      "text/html": [
       "<div>\n",
       "<style scoped>\n",
       "    .dataframe tbody tr th:only-of-type {\n",
       "        vertical-align: middle;\n",
       "    }\n",
       "\n",
       "    .dataframe tbody tr th {\n",
       "        vertical-align: top;\n",
       "    }\n",
       "\n",
       "    .dataframe thead th {\n",
       "        text-align: right;\n",
       "    }\n",
       "</style>\n",
       "<table border=\"1\" class=\"dataframe\">\n",
       "  <thead>\n",
       "    <tr style=\"text-align: right;\">\n",
       "      <th></th>\n",
       "      <th>Unnamed: 0</th>\n",
       "      <th>nom</th>\n",
       "      <th>categ</th>\n",
       "      <th>i1</th>\n",
       "      <th>d1</th>\n",
       "      <th>i2</th>\n",
       "      <th>d2</th>\n",
       "      <th>i3</th>\n",
       "      <th>d3</th>\n",
       "      <th>i4</th>\n",
       "      <th>d4</th>\n",
       "      <th>i5</th>\n",
       "      <th>d5</th>\n",
       "      <th>i6</th>\n",
       "      <th>d6</th>\n",
       "    </tr>\n",
       "  </thead>\n",
       "  <tbody>\n",
       "    <tr>\n",
       "      <th>0</th>\n",
       "      <td>0</td>\n",
       "      <td>Gauguin</td>\n",
       "      <td>Cocktail Classics</td>\n",
       "      <td>Light Rum</td>\n",
       "      <td>2.0</td>\n",
       "      <td>Passion Fruit Syrup</td>\n",
       "      <td>1.0</td>\n",
       "      <td>Lemon Juice</td>\n",
       "      <td>1.00</td>\n",
       "      <td>Lime Juice</td>\n",
       "      <td>1.00</td>\n",
       "      <td>NaN</td>\n",
       "      <td>NaN</td>\n",
       "      <td>NaN</td>\n",
       "      <td>NaN</td>\n",
       "    </tr>\n",
       "    <tr>\n",
       "      <th>1</th>\n",
       "      <td>1</td>\n",
       "      <td>Fort Lauderdale</td>\n",
       "      <td>Cocktail Classics</td>\n",
       "      <td>Light Rum</td>\n",
       "      <td>1.5</td>\n",
       "      <td>Sweet Vermouth</td>\n",
       "      <td>0.5</td>\n",
       "      <td>Juice of Orange</td>\n",
       "      <td>0.25</td>\n",
       "      <td>Juice of a Lime</td>\n",
       "      <td>0.25</td>\n",
       "      <td>NaN</td>\n",
       "      <td>NaN</td>\n",
       "      <td>NaN</td>\n",
       "      <td>NaN</td>\n",
       "    </tr>\n",
       "    <tr>\n",
       "      <th>2</th>\n",
       "      <td>2</td>\n",
       "      <td>Apple Pie</td>\n",
       "      <td>Cordials and Liqueurs</td>\n",
       "      <td>Apple schnapps</td>\n",
       "      <td>3.0</td>\n",
       "      <td>Cinnamon schnapps</td>\n",
       "      <td>1.0</td>\n",
       "      <td>NaN</td>\n",
       "      <td>NaN</td>\n",
       "      <td>NaN</td>\n",
       "      <td>NaN</td>\n",
       "      <td>NaN</td>\n",
       "      <td>NaN</td>\n",
       "      <td>NaN</td>\n",
       "      <td>NaN</td>\n",
       "    </tr>\n",
       "    <tr>\n",
       "      <th>3</th>\n",
       "      <td>3</td>\n",
       "      <td>Cuban Cocktail No. 1</td>\n",
       "      <td>Cocktail Classics</td>\n",
       "      <td>Juice of a Lime</td>\n",
       "      <td>0.5</td>\n",
       "      <td>Powdered Sugar</td>\n",
       "      <td>0.5</td>\n",
       "      <td>Light Rum</td>\n",
       "      <td>2.00</td>\n",
       "      <td>NaN</td>\n",
       "      <td>NaN</td>\n",
       "      <td>NaN</td>\n",
       "      <td>NaN</td>\n",
       "      <td>NaN</td>\n",
       "      <td>NaN</td>\n",
       "    </tr>\n",
       "    <tr>\n",
       "      <th>4</th>\n",
       "      <td>4</td>\n",
       "      <td>Cool Carlos</td>\n",
       "      <td>Cocktail Classics</td>\n",
       "      <td>Dark rum</td>\n",
       "      <td>1.5</td>\n",
       "      <td>Cranberry Juice</td>\n",
       "      <td>2.0</td>\n",
       "      <td>Pineapple Juice</td>\n",
       "      <td>2.00</td>\n",
       "      <td>Orange curacao</td>\n",
       "      <td>1.00</td>\n",
       "      <td>Sour Mix</td>\n",
       "      <td>1.0</td>\n",
       "      <td>NaN</td>\n",
       "      <td>NaN</td>\n",
       "    </tr>\n",
       "  </tbody>\n",
       "</table>\n",
       "</div>"
      ],
      "text/plain": [
       "   Unnamed: 0                   nom                  categ                i1  \\\n",
       "0           0               Gauguin      Cocktail Classics         Light Rum   \n",
       "1           1       Fort Lauderdale      Cocktail Classics         Light Rum   \n",
       "2           2             Apple Pie  Cordials and Liqueurs    Apple schnapps   \n",
       "3           3  Cuban Cocktail No. 1      Cocktail Classics   Juice of a Lime   \n",
       "4           4           Cool Carlos      Cocktail Classics          Dark rum   \n",
       "\n",
       "    d1                    i2   d2                i3    d3                i4  \\\n",
       "0  2.0   Passion Fruit Syrup  1.0       Lemon Juice  1.00        Lime Juice   \n",
       "1  1.5        Sweet Vermouth  0.5   Juice of Orange  0.25   Juice of a Lime   \n",
       "2  3.0     Cinnamon schnapps  1.0               NaN   NaN               NaN   \n",
       "3  0.5        Powdered Sugar  0.5         Light Rum  2.00               NaN   \n",
       "4  1.5       Cranberry Juice  2.0   Pineapple Juice  2.00    Orange curacao   \n",
       "\n",
       "     d4         i5   d5   i6  d6  \n",
       "0  1.00        NaN  NaN  NaN NaN  \n",
       "1  0.25        NaN  NaN  NaN NaN  \n",
       "2   NaN        NaN  NaN  NaN NaN  \n",
       "3   NaN        NaN  NaN  NaN NaN  \n",
       "4  1.00   Sour Mix  1.0  NaN NaN  "
      ]
     },
     "execution_count": 5,
     "metadata": {},
     "output_type": "execute_result"
    }
   ],
   "source": [
    "import pandas as pd\n",
    "df=pd.read_excel(\"cocktails.xlsx\")\n",
    "df.head()"
   ]
  },
  {
   "cell_type": "markdown",
   "id": "trying-melissa",
   "metadata": {},
   "source": [
    "Now we have to transform this sheet in a list of formulations. As many ingredients are only used a few times they are not usable for a deep learning training. So we can limit the major ingredients list to the ones uses in more than 30 recipes. The rare ingredients are represented as minors"
   ]
  },
  {
   "cell_type": "code",
   "execution_count": 6,
   "id": "smaller-isolation",
   "metadata": {},
   "outputs": [
    {
     "name": "stdout",
     "output_type": "stream",
     "text": [
      "based on 23 ingredients\n"
     ]
    }
   ],
   "source": [
    "from collections import Counter\n",
    "ingredients=[]\n",
    "for i in range(1,7):\n",
    "    for j in df[f\"i{i}\"].tolist():\n",
    "        ingredients.append(j)\n",
    "ingredients=Counter(ingredients)\n",
    "composant={}\n",
    "for name,cnt in ingredients.items():\n",
    "    if cnt>30:\n",
    "        composant[name]={'minor':False}\n",
    "print(f\"based on {len(composant)} ingredients\")\n",
    "listcompo=[]\n",
    "for i,j in df.iterrows():\n",
    "    try:\n",
    "        cp=components(physical={\"minor\":None})\n",
    "        rates={}\n",
    "        for k in range(1,7):\n",
    "            if j[f\"d{k}\"]==j[f\"d{k}\"] and j[f\"i{k}\"]==j[f\"i{k}\"] : #not nan\n",
    "                name=j[f\"i{k}\"]\n",
    "                if name in composant:\n",
    "                    rate=j[f\"d{k}\"]\n",
    "                    cp.add(name,\"\",{'minor':False})\n",
    "                    rates[name]=rate\n",
    "                else:\n",
    "                    cp.add(name,\"\",{'minor':True})\n",
    "                    rates[name]=0.001\n",
    "                    \n",
    "        cp.setrates(rates)\n",
    "        cp.mixing()\n",
    "    except:\n",
    "        pass\n",
    "    listcompo.append(cp)"
   ]
  },
  {
   "cell_type": "markdown",
   "id": "cutting-header",
   "metadata": {},
   "source": [
    "For instance we can inpect the first cocktail"
   ]
  },
  {
   "cell_type": "code",
   "execution_count": 7,
   "id": "double-tobacco",
   "metadata": {},
   "outputs": [
    {
     "data": {
      "text/html": [
       "<div>\n",
       "<style scoped>\n",
       "    .dataframe tbody tr th:only-of-type {\n",
       "        vertical-align: middle;\n",
       "    }\n",
       "\n",
       "    .dataframe tbody tr th {\n",
       "        vertical-align: top;\n",
       "    }\n",
       "\n",
       "    .dataframe thead th {\n",
       "        text-align: right;\n",
       "    }\n",
       "</style>\n",
       "<table border=\"1\" class=\"dataframe\">\n",
       "  <thead>\n",
       "    <tr style=\"text-align: right;\">\n",
       "      <th></th>\n",
       "      <th>Component</th>\n",
       "      <th>Rate</th>\n",
       "      <th>minor</th>\n",
       "    </tr>\n",
       "  </thead>\n",
       "  <tbody>\n",
       "    <tr>\n",
       "      <th>0</th>\n",
       "      <td>Light Rum</td>\n",
       "      <td>0.666</td>\n",
       "      <td>0</td>\n",
       "    </tr>\n",
       "    <tr>\n",
       "      <th>1</th>\n",
       "      <td>Passion Fruit Syrup</td>\n",
       "      <td>0.000</td>\n",
       "      <td>1</td>\n",
       "    </tr>\n",
       "    <tr>\n",
       "      <th>2</th>\n",
       "      <td>Lemon Juice</td>\n",
       "      <td>0.333</td>\n",
       "      <td>0</td>\n",
       "    </tr>\n",
       "    <tr>\n",
       "      <th>3</th>\n",
       "      <td>Lime Juice</td>\n",
       "      <td>0.000</td>\n",
       "      <td>1</td>\n",
       "    </tr>\n",
       "    <tr>\n",
       "      <th>4</th>\n",
       "      <td>Formulation</td>\n",
       "      <td>1.000</td>\n",
       "      <td>Non additive</td>\n",
       "    </tr>\n",
       "  </tbody>\n",
       "</table>\n",
       "</div>"
      ],
      "text/plain": [
       "              Component   Rate         minor\n",
       "0             Light Rum  0.666             0\n",
       "1   Passion Fruit Syrup  0.000             1\n",
       "2           Lemon Juice  0.333             0\n",
       "3            Lime Juice  0.000             1\n",
       "4           Formulation  1.000  Non additive"
      ]
     },
     "execution_count": 7,
     "metadata": {},
     "output_type": "execute_result"
    }
   ],
   "source": [
    "listcompo[0].formulationlist"
   ]
  },
  {
   "cell_type": "markdown",
   "id": "recovered-movement",
   "metadata": {},
   "source": [
    "Then encode the full recipe's book"
   ]
  },
  {
   "cell_type": "code",
   "execution_count": 8,
   "id": "informal-franklin",
   "metadata": {},
   "outputs": [],
   "source": [
    "cocktails=formulationsymboliclanguage(listcompo,granulo=10,verbose=False)"
   ]
  },
  {
   "cell_type": "markdown",
   "id": "north-alexandria",
   "metadata": {},
   "source": [
    "As the number of minor ingredients is limited to the length of the greek alphabet some of them are not encoded. It is possible to use longer alphabet by changing the lists \n",
    "\n",
    "    formulationsymboliclanguage.major=list(\"ABCDEFGHIJKLMNOPQRSTUVWXYZ\")\n",
    "    formulationsymboliclanguage.major=list('αβγδεζηθικλμνξοπρστυφχψω')\n",
    "    \n",
    "so we can now get an encoded training set. You may display unencoded ingredients by specifying verbose=True\n",
    "    "
   ]
  },
  {
   "cell_type": "code",
   "execution_count": 9,
   "id": "naked-chuck",
   "metadata": {},
   "outputs": [],
   "source": [
    "encoded=cocktails.encode(listcompo)"
   ]
  },
  {
   "cell_type": "markdown",
   "id": "signal-holocaust",
   "metadata": {},
   "source": [
    "The first cocktail is encoded as "
   ]
  },
  {
   "cell_type": "code",
   "execution_count": 10,
   "id": "robust-button",
   "metadata": {},
   "outputs": [
    {
     "data": {
      "text/html": [
       "<div style='font-size:3em;'>Encoded recipe 0 : AAAAAAAABBBBαβ</div>"
      ],
      "text/plain": [
       "<IPython.core.display.HTML object>"
      ]
     },
     "metadata": {},
     "output_type": "display_data"
    }
   ],
   "source": [
    "display(HTML(f\"<div style='font-size:3em;'>Encoded recipe 0 : {encoded[0]}</div>\"))\n"
   ]
  },
  {
   "cell_type": "markdown",
   "id": "independent-writer",
   "metadata": {},
   "source": [
    "If you check what means A"
   ]
  },
  {
   "cell_type": "code",
   "execution_count": 11,
   "id": "healthy-certificate",
   "metadata": {},
   "outputs": [
    {
     "name": "stdout",
     "output_type": "stream",
     "text": [
      "Ingredient:  Light Rum\n",
      "Minimum in recipes : 0.04, maximum: 1.0\n",
      "One dose of  Light Rum is 0.096\n"
     ]
    }
   ],
   "source": [
    "name={j:i for i,j in cocktails.dict.items()}['A']\n",
    "print(f\"Ingredient: {name}\")\n",
    "print(f\"Minimum in recipes : {cocktails.min[name]}, maximum: {cocktails.max[name]}\")\n",
    "print(f\"One dose of {name} is {cocktails.delta[name]}\")"
   ]
  },
  {
   "cell_type": "markdown",
   "id": "dominant-filter",
   "metadata": {},
   "source": [
    "Encoding is a balance between accuracy (as the quantities are encoded as a number of doses) and the number of available recipes. Having long encoded FSL strings gives a good accuracy but requires a lot of recipes to train a deep encoder. For instance, let's decode the encoded recipe"
   ]
  },
  {
   "cell_type": "code",
   "execution_count": 12,
   "id": "active-london",
   "metadata": {},
   "outputs": [
    {
     "data": {
      "text/html": [
       "<span style='font-size:2em;'>FSL encoded recipe is:</span>"
      ],
      "text/plain": [
       "<IPython.core.display.HTML object>"
      ]
     },
     "metadata": {},
     "output_type": "display_data"
    },
    {
     "data": {
      "text/html": [
       "<div>\n",
       "<style scoped>\n",
       "    .dataframe tbody tr th:only-of-type {\n",
       "        vertical-align: middle;\n",
       "    }\n",
       "\n",
       "    .dataframe tbody tr th {\n",
       "        vertical-align: top;\n",
       "    }\n",
       "\n",
       "    .dataframe thead th {\n",
       "        text-align: right;\n",
       "    }\n",
       "</style>\n",
       "<table border=\"1\" class=\"dataframe\">\n",
       "  <thead>\n",
       "    <tr style=\"text-align: right;\">\n",
       "      <th></th>\n",
       "      <th>Component</th>\n",
       "      <th>Rate</th>\n",
       "      <th>minor</th>\n",
       "    </tr>\n",
       "  </thead>\n",
       "  <tbody>\n",
       "    <tr>\n",
       "      <th>0</th>\n",
       "      <td>Light Rum</td>\n",
       "      <td>0.633</td>\n",
       "      <td>False</td>\n",
       "    </tr>\n",
       "    <tr>\n",
       "      <th>1</th>\n",
       "      <td>Lemon Juice</td>\n",
       "      <td>0.365</td>\n",
       "      <td>False</td>\n",
       "    </tr>\n",
       "    <tr>\n",
       "      <th>2</th>\n",
       "      <td>Passion Fruit Syrup</td>\n",
       "      <td>0.001</td>\n",
       "      <td>True</td>\n",
       "    </tr>\n",
       "    <tr>\n",
       "      <th>3</th>\n",
       "      <td>Lime Juice</td>\n",
       "      <td>0.001</td>\n",
       "      <td>True</td>\n",
       "    </tr>\n",
       "    <tr>\n",
       "      <th>4</th>\n",
       "      <td>Formulation</td>\n",
       "      <td>1.000</td>\n",
       "      <td>Non additive</td>\n",
       "    </tr>\n",
       "  </tbody>\n",
       "</table>\n",
       "</div>"
      ],
      "text/plain": [
       "              Component   Rate         minor\n",
       "0             Light Rum  0.633         False\n",
       "1           Lemon Juice  0.365         False\n",
       "2   Passion Fruit Syrup  0.001          True\n",
       "3            Lime Juice  0.001          True\n",
       "4           Formulation  1.000  Non additive"
      ]
     },
     "metadata": {},
     "output_type": "display_data"
    },
    {
     "data": {
      "text/html": [
       "<span style='font-size:2em;'>And the original recipe was:</span>"
      ],
      "text/plain": [
       "<IPython.core.display.HTML object>"
      ]
     },
     "metadata": {},
     "output_type": "display_data"
    },
    {
     "data": {
      "text/html": [
       "<div>\n",
       "<style scoped>\n",
       "    .dataframe tbody tr th:only-of-type {\n",
       "        vertical-align: middle;\n",
       "    }\n",
       "\n",
       "    .dataframe tbody tr th {\n",
       "        vertical-align: top;\n",
       "    }\n",
       "\n",
       "    .dataframe thead th {\n",
       "        text-align: right;\n",
       "    }\n",
       "</style>\n",
       "<table border=\"1\" class=\"dataframe\">\n",
       "  <thead>\n",
       "    <tr style=\"text-align: right;\">\n",
       "      <th></th>\n",
       "      <th>Component</th>\n",
       "      <th>Rate</th>\n",
       "      <th>minor</th>\n",
       "    </tr>\n",
       "  </thead>\n",
       "  <tbody>\n",
       "    <tr>\n",
       "      <th>0</th>\n",
       "      <td>Light Rum</td>\n",
       "      <td>0.666</td>\n",
       "      <td>0</td>\n",
       "    </tr>\n",
       "    <tr>\n",
       "      <th>1</th>\n",
       "      <td>Passion Fruit Syrup</td>\n",
       "      <td>0.000</td>\n",
       "      <td>1</td>\n",
       "    </tr>\n",
       "    <tr>\n",
       "      <th>2</th>\n",
       "      <td>Lemon Juice</td>\n",
       "      <td>0.333</td>\n",
       "      <td>0</td>\n",
       "    </tr>\n",
       "    <tr>\n",
       "      <th>3</th>\n",
       "      <td>Lime Juice</td>\n",
       "      <td>0.000</td>\n",
       "      <td>1</td>\n",
       "    </tr>\n",
       "    <tr>\n",
       "      <th>4</th>\n",
       "      <td>Formulation</td>\n",
       "      <td>1.000</td>\n",
       "      <td>Non additive</td>\n",
       "    </tr>\n",
       "  </tbody>\n",
       "</table>\n",
       "</div>"
      ],
      "text/plain": [
       "              Component   Rate         minor\n",
       "0             Light Rum  0.666             0\n",
       "1   Passion Fruit Syrup  0.000             1\n",
       "2           Lemon Juice  0.333             0\n",
       "3            Lime Juice  0.000             1\n",
       "4           Formulation  1.000  Non additive"
      ]
     },
     "metadata": {},
     "output_type": "display_data"
    }
   ],
   "source": [
    "display(HTML(\"<span style='font-size:2em;'>FSL encoded recipe is:</span>\"))\n",
    "display(cocktails.decode([encoded[0]])[0].formulationlist)\n",
    "display(HTML(\"<span style='font-size:2em;'>And the original recipe was:</span>\"))\n",
    "display(listcompo[0].formulationlist)"
   ]
  },
  {
   "cell_type": "markdown",
   "id": "heard-centre",
   "metadata": {},
   "source": [
    "# Limits of the current version\n",
    "This published version is limited to\n",
    "* unordered ingredients: A development version is in progress to take into account a complete sequential manufacturing process\n",
    "* The cocktail generation by autoencoder's latent space exploration has been successfully tested for cocktails but it has to be assessed in other contexts"
   ]
  },
  {
   "cell_type": "markdown",
   "id": "ahead-baseball",
   "metadata": {},
   "source": [
    "# Licence\n",
    "MIT\n",
    "\n",
    "2021/2022 https://www.rd-mediation.com"
   ]
  },
  {
   "cell_type": "markdown",
   "id": "annual-beginning",
   "metadata": {},
   "source": [
    "# Annexe : simple deep autoencoding"
   ]
  },
  {
   "cell_type": "code",
   "execution_count": 13,
   "id": "adaptive-purse",
   "metadata": {},
   "outputs": [
    {
     "name": "stdout",
     "output_type": "stream",
     "text": [
      "829 formulae for training\n"
     ]
    }
   ],
   "source": [
    "dataset=[]\n",
    "for m in encoded:\n",
    "    if len(m)>2:\n",
    "        dataset.append(m)\n",
    "print(f\"{len(dataset)} formulae for training\")"
   ]
  },
  {
   "cell_type": "markdown",
   "id": "hourly-suggestion",
   "metadata": {},
   "source": [
    "## Preparing the training set"
   ]
  },
  {
   "cell_type": "code",
   "execution_count": 14,
   "id": "cloudy-california",
   "metadata": {},
   "outputs": [],
   "source": [
    "from FSL import onehot\n",
    "import numpy as np\n",
    "import pandas as pd"
   ]
  },
  {
   "cell_type": "code",
   "execution_count": 24,
   "id": "joined-headquarters",
   "metadata": {},
   "outputs": [],
   "source": [
    "token=onehot(dataset)\n",
    "dftrain=token.trainset()\n"
   ]
  },
  {
   "cell_type": "markdown",
   "id": "innovative-underwear",
   "metadata": {},
   "source": [
    "## Running a simple neural network"
   ]
  },
  {
   "cell_type": "code",
   "execution_count": 27,
   "id": "academic-screen",
   "metadata": {},
   "outputs": [
    {
     "name": "stdout",
     "output_type": "stream",
     "text": [
      "Model: \"model_2\"\n",
      "_________________________________________________________________\n",
      "Layer (type)                 Output Shape              Param #   \n",
      "=================================================================\n",
      "input_3 (InputLayer)         [(None, 15)]              0         \n",
      "_________________________________________________________________\n",
      "dense_4 (Dense)              (None, 32)                512       \n",
      "_________________________________________________________________\n",
      "dense_5 (Dense)              (None, 15)                495       \n",
      "=================================================================\n",
      "Total params: 1,007\n",
      "Trainable params: 1,007\n",
      "Non-trainable params: 0\n",
      "_________________________________________________________________\n"
     ]
    }
   ],
   "source": [
    "from tensorflow.keras.layers import Input, Dense\n",
    "from tensorflow.keras.models import Model\n"
   ]
  },
  {
   "cell_type": "code",
   "execution_count": 44,
   "id": "olympic-berkeley",
   "metadata": {},
   "outputs": [],
   "source": [
    "encoding_dim = 32  \n",
    "\n",
    "input_img = Input(shape=(token.maxlen*len(token.l2i),))\n",
    "encoded = Dense(encoding_dim, activation='relu')(input_img)\n",
    "decoded = Dense(token.maxlen*len(token.l2i), activation='sigmoid')(encoded)\n",
    "autoencoder = Model(input_img, decoded)\n",
    "autoencoder.compile(optimizer='adadelta', loss='binary_crossentropy')\n",
    "encoder = Model(input_img, encoded)\n",
    "encoded_input = Input(shape=(encoding_dim,))\n",
    "decoder_layer = autoencoder.layers[-1]\n",
    "decoder = Model(encoded_input, decoder_layer(encoded_input))"
   ]
  },
  {
   "cell_type": "code",
   "execution_count": 45,
   "id": "political-enforcement",
   "metadata": {},
   "outputs": [],
   "source": [
    "h=autoencoder.fit(dftrain, dftrain,\n",
    "                epochs=5000,\n",
    "                batch_size=50,\n",
    "                verbose=0,\n",
    "                shuffle=True,\n",
    "                validation_split=0.2)\n",
    "        "
   ]
  },
  {
   "cell_type": "code",
   "execution_count": 46,
   "id": "gross-dining",
   "metadata": {},
   "outputs": [
    {
     "data": {
      "image/png": "[encoded data removed]",
      "text/plain": [
       "<Figure size 432x288 with 1 Axes>"
      ]
     },
     "metadata": {
      "needs_background": "light"
     },
     "output_type": "display_data"
    }
   ],
   "source": [
    "import matplotlib.pyplot as plt\n",
    "%matplotlib inline\n",
    "plt.plot(h.history['loss'])\n",
    "plt.plot(h.history['val_loss'])\n",
    "plt.title('model loss')\n",
    "plt.ylabel('loss')\n",
    "plt.xlabel('epoch')\n",
    "plt.legend(['train', 'test'], loc='upper left')\n",
    "plt.show()"
   ]
  },
  {
   "cell_type": "code",
   "execution_count": 66,
   "id": "oriental-fireplace",
   "metadata": {},
   "outputs": [
    {
     "name": "stdout",
     "output_type": "stream",
     "text": [
      "WARNING:tensorflow:Model was constructed with shape (None, 690) for input KerasTensor(type_spec=TensorSpec(shape=(None, 690), dtype=tf.float32, name='input_6'), name='input_6', description=\"created by layer 'input_6'\"), but it was called on an input with incompatible shape (None, 1).\n"
     ]
    },
    {
     "ename": "ValueError",
     "evalue": "in user code:\n\n    /Users/pro/miniforge3/envs/m1/lib/python3.8/site-packages/tensorflow/python/keras/engine/training.py:1478 predict_function  *\n        return step_function(self, iterator)\n    /Users/pro/miniforge3/envs/m1/lib/python3.8/site-packages/tensorflow/python/keras/engine/training.py:1468 step_function  **\n        outputs = model.distribute_strategy.run(run_step, args=(data,))\n    /Users/pro/miniforge3/envs/m1/lib/python3.8/site-packages/tensorflow/python/distribute/distribute_lib.py:1259 run\n        return self._extended.call_for_each_replica(fn, args=args, kwargs=kwargs)\n    /Users/pro/miniforge3/envs/m1/lib/python3.8/site-packages/tensorflow/python/distribute/distribute_lib.py:2730 call_for_each_replica\n        return self._call_for_each_replica(fn, args, kwargs)\n    /Users/pro/miniforge3/envs/m1/lib/python3.8/site-packages/tensorflow/python/distribute/distribute_lib.py:3417 _call_for_each_replica\n        return fn(*args, **kwargs)\n    /Users/pro/miniforge3/envs/m1/lib/python3.8/site-packages/tensorflow/python/keras/engine/training.py:1461 run_step  **\n        outputs = model.predict_step(data)\n    /Users/pro/miniforge3/envs/m1/lib/python3.8/site-packages/tensorflow/python/keras/engine/training.py:1434 predict_step\n        return self(x, training=False)\n    /Users/pro/miniforge3/envs/m1/lib/python3.8/site-packages/tensorflow/python/keras/engine/base_layer.py:1007 __call__\n        outputs = call_fn(inputs, *args, **kwargs)\n    /Users/pro/miniforge3/envs/m1/lib/python3.8/site-packages/tensorflow/python/keras/engine/functional.py:424 call\n        return self._run_internal_graph(\n    /Users/pro/miniforge3/envs/m1/lib/python3.8/site-packages/tensorflow/python/keras/engine/functional.py:560 _run_internal_graph\n        outputs = node.layer(*args, **kwargs)\n    /Users/pro/miniforge3/envs/m1/lib/python3.8/site-packages/tensorflow/python/keras/engine/base_layer.py:993 __call__\n        input_spec.assert_input_compatibility(self.input_spec, inputs, self.name)\n    /Users/pro/miniforge3/envs/m1/lib/python3.8/site-packages/tensorflow/python/keras/engine/input_spec.py:255 assert_input_compatibility\n        raise ValueError(\n\n    ValueError: Input 0 of layer dense_10 is incompatible with the layer: expected axis -1 of input shape to have value 690 but received input with shape (None, 1)\n",
     "output_type": "error",
     "traceback": [
      "\u001b[0;31m---------------------------------------------------------------------------\u001b[0m",
      "\u001b[0;31mValueError\u001b[0m                                Traceback (most recent call last)",
      "\u001b[0;32m<ipython-input-66-81ff6cfdac05>\u001b[0m in \u001b[0;36m<module>\u001b[0;34m\u001b[0m\n\u001b[1;32m      1\u001b[0m \u001b[0mdataset\u001b[0m\u001b[0;34m[\u001b[0m\u001b[0;36m0\u001b[0m\u001b[0;34m]\u001b[0m\u001b[0;34m\u001b[0m\u001b[0;34m\u001b[0m\u001b[0m\n\u001b[0;32m----> 2\u001b[0;31m \u001b[0mlatent\u001b[0m\u001b[0;34m=\u001b[0m\u001b[0mencoder\u001b[0m\u001b[0;34m.\u001b[0m\u001b[0mpredict\u001b[0m\u001b[0;34m(\u001b[0m\u001b[0mnp\u001b[0m\u001b[0;34m.\u001b[0m\u001b[0marray\u001b[0m\u001b[0;34m(\u001b[0m\u001b[0;34m[\u001b[0m\u001b[0mdftrain\u001b[0m\u001b[0;34m[\u001b[0m\u001b[0;36m0\u001b[0m\u001b[0;34m]\u001b[0m\u001b[0;34m]\u001b[0m\u001b[0;34m)\u001b[0m\u001b[0;34m.\u001b[0m\u001b[0mreshape\u001b[0m\u001b[0;34m(\u001b[0m\u001b[0;34m-\u001b[0m\u001b[0;36m1\u001b[0m\u001b[0;34m)\u001b[0m\u001b[0;34m)\u001b[0m\u001b[0;34m\u001b[0m\u001b[0;34m\u001b[0m\u001b[0m\n\u001b[0m\u001b[1;32m      3\u001b[0m \u001b[0;31m#latent=encoder.predict(np.array([dftrain[0]]))\u001b[0m\u001b[0;34m\u001b[0m\u001b[0;34m\u001b[0m\u001b[0;34m\u001b[0m\u001b[0m\n",
      "\u001b[0;32m~/miniforge3/envs/m1/lib/python3.8/site-packages/tensorflow/python/keras/engine/training.py\u001b[0m in \u001b[0;36mpredict\u001b[0;34m(self, x, batch_size, verbose, steps, callbacks, max_queue_size, workers, use_multiprocessing)\u001b[0m\n\u001b[1;32m   1627\u001b[0m           \u001b[0;32mfor\u001b[0m \u001b[0mstep\u001b[0m \u001b[0;32min\u001b[0m \u001b[0mdata_handler\u001b[0m\u001b[0;34m.\u001b[0m\u001b[0msteps\u001b[0m\u001b[0;34m(\u001b[0m\u001b[0;34m)\u001b[0m\u001b[0;34m:\u001b[0m\u001b[0;34m\u001b[0m\u001b[0;34m\u001b[0m\u001b[0m\n\u001b[1;32m   1628\u001b[0m             \u001b[0mcallbacks\u001b[0m\u001b[0;34m.\u001b[0m\u001b[0mon_predict_batch_begin\u001b[0m\u001b[0;34m(\u001b[0m\u001b[0mstep\u001b[0m\u001b[0;34m)\u001b[0m\u001b[0;34m\u001b[0m\u001b[0;34m\u001b[0m\u001b[0m\n\u001b[0;32m-> 1629\u001b[0;31m             \u001b[0mtmp_batch_outputs\u001b[0m \u001b[0;34m=\u001b[0m \u001b[0mself\u001b[0m\u001b[0;34m.\u001b[0m\u001b[0mpredict_function\u001b[0m\u001b[0;34m(\u001b[0m\u001b[0miterator\u001b[0m\u001b[0;34m)\u001b[0m\u001b[0;34m\u001b[0m\u001b[0;34m\u001b[0m\u001b[0m\n\u001b[0m\u001b[1;32m   1630\u001b[0m             \u001b[0;32mif\u001b[0m \u001b[0mdata_handler\u001b[0m\u001b[0;34m.\u001b[0m\u001b[0mshould_sync\u001b[0m\u001b[0;34m:\u001b[0m\u001b[0;34m\u001b[0m\u001b[0;34m\u001b[0m\u001b[0m\n\u001b[1;32m   1631\u001b[0m               \u001b[0mcontext\u001b[0m\u001b[0;34m.\u001b[0m\u001b[0masync_wait\u001b[0m\u001b[0;34m(\u001b[0m\u001b[0;34m)\u001b[0m\u001b[0;34m\u001b[0m\u001b[0;34m\u001b[0m\u001b[0m\n",
      "\u001b[0;32m~/miniforge3/envs/m1/lib/python3.8/site-packages/tensorflow/python/eager/def_function.py\u001b[0m in \u001b[0;36m__call__\u001b[0;34m(self, *args, **kwds)\u001b[0m\n\u001b[1;32m    826\u001b[0m     \u001b[0mtracing_count\u001b[0m \u001b[0;34m=\u001b[0m \u001b[0mself\u001b[0m\u001b[0;34m.\u001b[0m\u001b[0mexperimental_get_tracing_count\u001b[0m\u001b[0;34m(\u001b[0m\u001b[0;34m)\u001b[0m\u001b[0;34m\u001b[0m\u001b[0;34m\u001b[0m\u001b[0m\n\u001b[1;32m    827\u001b[0m     \u001b[0;32mwith\u001b[0m \u001b[0mtrace\u001b[0m\u001b[0;34m.\u001b[0m\u001b[0mTrace\u001b[0m\u001b[0;34m(\u001b[0m\u001b[0mself\u001b[0m\u001b[0;34m.\u001b[0m\u001b[0m_name\u001b[0m\u001b[0;34m)\u001b[0m \u001b[0;32mas\u001b[0m \u001b[0mtm\u001b[0m\u001b[0;34m:\u001b[0m\u001b[0;34m\u001b[0m\u001b[0;34m\u001b[0m\u001b[0m\n\u001b[0;32m--> 828\u001b[0;31m       \u001b[0mresult\u001b[0m \u001b[0;34m=\u001b[0m \u001b[0mself\u001b[0m\u001b[0;34m.\u001b[0m\u001b[0m_call\u001b[0m\u001b[0;34m(\u001b[0m\u001b[0;34m*\u001b[0m\u001b[0margs\u001b[0m\u001b[0;34m,\u001b[0m \u001b[0;34m**\u001b[0m\u001b[0mkwds\u001b[0m\u001b[0;34m)\u001b[0m\u001b[0;34m\u001b[0m\u001b[0;34m\u001b[0m\u001b[0m\n\u001b[0m\u001b[1;32m    829\u001b[0m       \u001b[0mcompiler\u001b[0m \u001b[0;34m=\u001b[0m \u001b[0;34m\"xla\"\u001b[0m \u001b[0;32mif\u001b[0m \u001b[0mself\u001b[0m\u001b[0;34m.\u001b[0m\u001b[0m_experimental_compile\u001b[0m \u001b[0;32melse\u001b[0m \u001b[0;34m\"nonXla\"\u001b[0m\u001b[0;34m\u001b[0m\u001b[0;34m\u001b[0m\u001b[0m\n\u001b[1;32m    830\u001b[0m       \u001b[0mnew_tracing_count\u001b[0m \u001b[0;34m=\u001b[0m \u001b[0mself\u001b[0m\u001b[0;34m.\u001b[0m\u001b[0mexperimental_get_tracing_count\u001b[0m\u001b[0;34m(\u001b[0m\u001b[0;34m)\u001b[0m\u001b[0;34m\u001b[0m\u001b[0;34m\u001b[0m\u001b[0m\n",
      "\u001b[0;32m~/miniforge3/envs/m1/lib/python3.8/site-packages/tensorflow/python/eager/def_function.py\u001b[0m in \u001b[0;36m_call\u001b[0;34m(self, *args, **kwds)\u001b[0m\n\u001b[1;32m    860\u001b[0m       \u001b[0;31m# In this case we have not created variables on the first call. So we can\u001b[0m\u001b[0;34m\u001b[0m\u001b[0;34m\u001b[0m\u001b[0;34m\u001b[0m\u001b[0m\n\u001b[1;32m    861\u001b[0m       \u001b[0;31m# run the first trace but we should fail if variables are created.\u001b[0m\u001b[0;34m\u001b[0m\u001b[0;34m\u001b[0m\u001b[0;34m\u001b[0m\u001b[0m\n\u001b[0;32m--> 862\u001b[0;31m       \u001b[0mresults\u001b[0m \u001b[0;34m=\u001b[0m \u001b[0mself\u001b[0m\u001b[0;34m.\u001b[0m\u001b[0m_stateful_fn\u001b[0m\u001b[0;34m(\u001b[0m\u001b[0;34m*\u001b[0m\u001b[0margs\u001b[0m\u001b[0;34m,\u001b[0m \u001b[0;34m**\u001b[0m\u001b[0mkwds\u001b[0m\u001b[0;34m)\u001b[0m\u001b[0;34m\u001b[0m\u001b[0;34m\u001b[0m\u001b[0m\n\u001b[0m\u001b[1;32m    863\u001b[0m       \u001b[0;32mif\u001b[0m \u001b[0mself\u001b[0m\u001b[0;34m.\u001b[0m\u001b[0m_created_variables\u001b[0m\u001b[0;34m:\u001b[0m\u001b[0;34m\u001b[0m\u001b[0;34m\u001b[0m\u001b[0m\n\u001b[1;32m    864\u001b[0m         raise ValueError(\"Creating variables on a non-first call to a function\"\n",
      "\u001b[0;32m~/miniforge3/envs/m1/lib/python3.8/site-packages/tensorflow/python/eager/function.py\u001b[0m in \u001b[0;36m__call__\u001b[0;34m(self, *args, **kwargs)\u001b[0m\n\u001b[1;32m   2939\u001b[0m     \u001b[0;32mwith\u001b[0m \u001b[0mself\u001b[0m\u001b[0;34m.\u001b[0m\u001b[0m_lock\u001b[0m\u001b[0;34m:\u001b[0m\u001b[0;34m\u001b[0m\u001b[0;34m\u001b[0m\u001b[0m\n\u001b[1;32m   2940\u001b[0m       (graph_function,\n\u001b[0;32m-> 2941\u001b[0;31m        filtered_flat_args) = self._maybe_define_function(args, kwargs)\n\u001b[0m\u001b[1;32m   2942\u001b[0m     return graph_function._call_flat(\n\u001b[1;32m   2943\u001b[0m         filtered_flat_args, captured_inputs=graph_function.captured_inputs)  # pylint: disable=protected-access\n",
      "\u001b[0;32m~/miniforge3/envs/m1/lib/python3.8/site-packages/tensorflow/python/eager/function.py\u001b[0m in \u001b[0;36m_maybe_define_function\u001b[0;34m(self, args, kwargs)\u001b[0m\n\u001b[1;32m   3355\u001b[0m               \u001b[0mself\u001b[0m\u001b[0;34m.\u001b[0m\u001b[0minput_signature\u001b[0m \u001b[0;32mis\u001b[0m \u001b[0;32mNone\u001b[0m \u001b[0;32mand\u001b[0m\u001b[0;34m\u001b[0m\u001b[0;34m\u001b[0m\u001b[0m\n\u001b[1;32m   3356\u001b[0m               call_context_key in self._function_cache.missed):\n\u001b[0;32m-> 3357\u001b[0;31m             return self._define_function_with_shape_relaxation(\n\u001b[0m\u001b[1;32m   3358\u001b[0m                 args, kwargs, flat_args, filtered_flat_args, cache_key_context)\n\u001b[1;32m   3359\u001b[0m \u001b[0;34m\u001b[0m\u001b[0m\n",
      "\u001b[0;32m~/miniforge3/envs/m1/lib/python3.8/site-packages/tensorflow/python/eager/function.py\u001b[0m in \u001b[0;36m_define_function_with_shape_relaxation\u001b[0;34m(self, args, kwargs, flat_args, filtered_flat_args, cache_key_context)\u001b[0m\n\u001b[1;32m   3277\u001b[0m           expand_composites=True)\n\u001b[1;32m   3278\u001b[0m \u001b[0;34m\u001b[0m\u001b[0m\n\u001b[0;32m-> 3279\u001b[0;31m     graph_function = self._create_graph_function(\n\u001b[0m\u001b[1;32m   3280\u001b[0m         args, kwargs, override_flat_arg_shapes=relaxed_arg_shapes)\n\u001b[1;32m   3281\u001b[0m     \u001b[0mself\u001b[0m\u001b[0;34m.\u001b[0m\u001b[0m_function_cache\u001b[0m\u001b[0;34m.\u001b[0m\u001b[0marg_relaxed\u001b[0m\u001b[0;34m[\u001b[0m\u001b[0mrank_only_cache_key\u001b[0m\u001b[0;34m]\u001b[0m \u001b[0;34m=\u001b[0m \u001b[0mgraph_function\u001b[0m\u001b[0;34m\u001b[0m\u001b[0;34m\u001b[0m\u001b[0m\n",
      "\u001b[0;32m~/miniforge3/envs/m1/lib/python3.8/site-packages/tensorflow/python/eager/function.py\u001b[0m in \u001b[0;36m_create_graph_function\u001b[0;34m(self, args, kwargs, override_flat_arg_shapes)\u001b[0m\n\u001b[1;32m   3194\u001b[0m     \u001b[0marg_names\u001b[0m \u001b[0;34m=\u001b[0m \u001b[0mbase_arg_names\u001b[0m \u001b[0;34m+\u001b[0m \u001b[0mmissing_arg_names\u001b[0m\u001b[0;34m\u001b[0m\u001b[0;34m\u001b[0m\u001b[0m\n\u001b[1;32m   3195\u001b[0m     graph_function = ConcreteFunction(\n\u001b[0;32m-> 3196\u001b[0;31m         func_graph_module.func_graph_from_py_func(\n\u001b[0m\u001b[1;32m   3197\u001b[0m             \u001b[0mself\u001b[0m\u001b[0;34m.\u001b[0m\u001b[0m_name\u001b[0m\u001b[0;34m,\u001b[0m\u001b[0;34m\u001b[0m\u001b[0;34m\u001b[0m\u001b[0m\n\u001b[1;32m   3198\u001b[0m             \u001b[0mself\u001b[0m\u001b[0;34m.\u001b[0m\u001b[0m_python_function\u001b[0m\u001b[0;34m,\u001b[0m\u001b[0;34m\u001b[0m\u001b[0;34m\u001b[0m\u001b[0m\n",
      "\u001b[0;32m~/miniforge3/envs/m1/lib/python3.8/site-packages/tensorflow/python/framework/func_graph.py\u001b[0m in \u001b[0;36mfunc_graph_from_py_func\u001b[0;34m(name, python_func, args, kwargs, signature, func_graph, autograph, autograph_options, add_control_dependencies, arg_names, op_return_value, collections, capture_by_value, override_flat_arg_shapes)\u001b[0m\n\u001b[1;32m    988\u001b[0m         \u001b[0m_\u001b[0m\u001b[0;34m,\u001b[0m \u001b[0moriginal_func\u001b[0m \u001b[0;34m=\u001b[0m \u001b[0mtf_decorator\u001b[0m\u001b[0;34m.\u001b[0m\u001b[0munwrap\u001b[0m\u001b[0;34m(\u001b[0m\u001b[0mpython_func\u001b[0m\u001b[0;34m)\u001b[0m\u001b[0;34m\u001b[0m\u001b[0;34m\u001b[0m\u001b[0m\n\u001b[1;32m    989\u001b[0m \u001b[0;34m\u001b[0m\u001b[0m\n\u001b[0;32m--> 990\u001b[0;31m       \u001b[0mfunc_outputs\u001b[0m \u001b[0;34m=\u001b[0m \u001b[0mpython_func\u001b[0m\u001b[0;34m(\u001b[0m\u001b[0;34m*\u001b[0m\u001b[0mfunc_args\u001b[0m\u001b[0;34m,\u001b[0m \u001b[0;34m**\u001b[0m\u001b[0mfunc_kwargs\u001b[0m\u001b[0;34m)\u001b[0m\u001b[0;34m\u001b[0m\u001b[0;34m\u001b[0m\u001b[0m\n\u001b[0m\u001b[1;32m    991\u001b[0m \u001b[0;34m\u001b[0m\u001b[0m\n\u001b[1;32m    992\u001b[0m       \u001b[0;31m# invariant: `func_outputs` contains only Tensors, CompositeTensors,\u001b[0m\u001b[0;34m\u001b[0m\u001b[0;34m\u001b[0m\u001b[0;34m\u001b[0m\u001b[0m\n",
      "\u001b[0;32m~/miniforge3/envs/m1/lib/python3.8/site-packages/tensorflow/python/eager/def_function.py\u001b[0m in \u001b[0;36mwrapped_fn\u001b[0;34m(*args, **kwds)\u001b[0m\n\u001b[1;32m    632\u001b[0m             \u001b[0mxla_context\u001b[0m\u001b[0;34m.\u001b[0m\u001b[0mExit\u001b[0m\u001b[0;34m(\u001b[0m\u001b[0;34m)\u001b[0m\u001b[0;34m\u001b[0m\u001b[0;34m\u001b[0m\u001b[0m\n\u001b[1;32m    633\u001b[0m         \u001b[0;32melse\u001b[0m\u001b[0;34m:\u001b[0m\u001b[0;34m\u001b[0m\u001b[0;34m\u001b[0m\u001b[0m\n\u001b[0;32m--> 634\u001b[0;31m           \u001b[0mout\u001b[0m \u001b[0;34m=\u001b[0m \u001b[0mweak_wrapped_fn\u001b[0m\u001b[0;34m(\u001b[0m\u001b[0;34m)\u001b[0m\u001b[0;34m.\u001b[0m\u001b[0m__wrapped__\u001b[0m\u001b[0;34m(\u001b[0m\u001b[0;34m*\u001b[0m\u001b[0margs\u001b[0m\u001b[0;34m,\u001b[0m \u001b[0;34m**\u001b[0m\u001b[0mkwds\u001b[0m\u001b[0;34m)\u001b[0m\u001b[0;34m\u001b[0m\u001b[0;34m\u001b[0m\u001b[0m\n\u001b[0m\u001b[1;32m    635\u001b[0m         \u001b[0;32mreturn\u001b[0m \u001b[0mout\u001b[0m\u001b[0;34m\u001b[0m\u001b[0;34m\u001b[0m\u001b[0m\n\u001b[1;32m    636\u001b[0m \u001b[0;34m\u001b[0m\u001b[0m\n",
      "\u001b[0;32m~/miniforge3/envs/m1/lib/python3.8/site-packages/tensorflow/python/framework/func_graph.py\u001b[0m in \u001b[0;36mwrapper\u001b[0;34m(*args, **kwargs)\u001b[0m\n\u001b[1;32m    975\u001b[0m           \u001b[0;32mexcept\u001b[0m \u001b[0mException\u001b[0m \u001b[0;32mas\u001b[0m \u001b[0me\u001b[0m\u001b[0;34m:\u001b[0m  \u001b[0;31m# pylint:disable=broad-except\u001b[0m\u001b[0;34m\u001b[0m\u001b[0;34m\u001b[0m\u001b[0m\n\u001b[1;32m    976\u001b[0m             \u001b[0;32mif\u001b[0m \u001b[0mhasattr\u001b[0m\u001b[0;34m(\u001b[0m\u001b[0me\u001b[0m\u001b[0;34m,\u001b[0m \u001b[0;34m\"ag_error_metadata\"\u001b[0m\u001b[0;34m)\u001b[0m\u001b[0;34m:\u001b[0m\u001b[0;34m\u001b[0m\u001b[0;34m\u001b[0m\u001b[0m\n\u001b[0;32m--> 977\u001b[0;31m               \u001b[0;32mraise\u001b[0m \u001b[0me\u001b[0m\u001b[0;34m.\u001b[0m\u001b[0mag_error_metadata\u001b[0m\u001b[0;34m.\u001b[0m\u001b[0mto_exception\u001b[0m\u001b[0;34m(\u001b[0m\u001b[0me\u001b[0m\u001b[0;34m)\u001b[0m\u001b[0;34m\u001b[0m\u001b[0;34m\u001b[0m\u001b[0m\n\u001b[0m\u001b[1;32m    978\u001b[0m             \u001b[0;32melse\u001b[0m\u001b[0;34m:\u001b[0m\u001b[0;34m\u001b[0m\u001b[0;34m\u001b[0m\u001b[0m\n\u001b[1;32m    979\u001b[0m               \u001b[0;32mraise\u001b[0m\u001b[0;34m\u001b[0m\u001b[0;34m\u001b[0m\u001b[0m\n",
      "\u001b[0;31mValueError\u001b[0m: in user code:\n\n    /Users/pro/miniforge3/envs/m1/lib/python3.8/site-packages/tensorflow/python/keras/engine/training.py:1478 predict_function  *\n        return step_function(self, iterator)\n    /Users/pro/miniforge3/envs/m1/lib/python3.8/site-packages/tensorflow/python/keras/engine/training.py:1468 step_function  **\n        outputs = model.distribute_strategy.run(run_step, args=(data,))\n    /Users/pro/miniforge3/envs/m1/lib/python3.8/site-packages/tensorflow/python/distribute/distribute_lib.py:1259 run\n        return self._extended.call_for_each_replica(fn, args=args, kwargs=kwargs)\n    /Users/pro/miniforge3/envs/m1/lib/python3.8/site-packages/tensorflow/python/distribute/distribute_lib.py:2730 call_for_each_replica\n        return self._call_for_each_replica(fn, args, kwargs)\n    /Users/pro/miniforge3/envs/m1/lib/python3.8/site-packages/tensorflow/python/distribute/distribute_lib.py:3417 _call_for_each_replica\n        return fn(*args, **kwargs)\n    /Users/pro/miniforge3/envs/m1/lib/python3.8/site-packages/tensorflow/python/keras/engine/training.py:1461 run_step  **\n        outputs = model.predict_step(data)\n    /Users/pro/miniforge3/envs/m1/lib/python3.8/site-packages/tensorflow/python/keras/engine/training.py:1434 predict_step\n        return self(x, training=False)\n    /Users/pro/miniforge3/envs/m1/lib/python3.8/site-packages/tensorflow/python/keras/engine/base_layer.py:1007 __call__\n        outputs = call_fn(inputs, *args, **kwargs)\n    /Users/pro/miniforge3/envs/m1/lib/python3.8/site-packages/tensorflow/python/keras/engine/functional.py:424 call\n        return self._run_internal_graph(\n    /Users/pro/miniforge3/envs/m1/lib/python3.8/site-packages/tensorflow/python/keras/engine/functional.py:560 _run_internal_graph\n        outputs = node.layer(*args, **kwargs)\n    /Users/pro/miniforge3/envs/m1/lib/python3.8/site-packages/tensorflow/python/keras/engine/base_layer.py:993 __call__\n        input_spec.assert_input_compatibility(self.input_spec, inputs, self.name)\n    /Users/pro/miniforge3/envs/m1/lib/python3.8/site-packages/tensorflow/python/keras/engine/input_spec.py:255 assert_input_compatibility\n        raise ValueError(\n\n    ValueError: Input 0 of layer dense_10 is incompatible with the layer: expected axis -1 of input shape to have value 690 but received input with shape (None, 1)\n"
     ]
    }
   ],
   "source": [
    "dataset[0]\n",
    "latent=encoder.predict(np.array([dftrain[0]]).reshape(-1))\n",
    "#latent=encoder.predict(np.array([dftrain[0]]))"
   ]
  },
  {
   "cell_type": "code",
   "execution_count": 70,
   "id": "innocent-phoenix",
   "metadata": {},
   "outputs": [
    {
     "data": {
      "text/plain": [
       "array([[[0, 0, 0, 0, 0, 0, 0, 0, 0, 0, 0, 0, 0, 0, 0, 0, 0, 0, 0, 0, 0,\n",
       "         0, 0, 0, 0, 0, 0, 0, 0, 0, 0, 0, 0, 0, 0, 0, 0, 0, 0, 0, 0, 0,\n",
       "         0, 0, 0, 0, 0, 0, 0, 0, 0, 0, 0, 0, 0, 0, 0, 0, 0, 0, 0, 0, 0,\n",
       "         0, 0, 0, 0, 0, 0, 0, 0, 0, 0, 0, 0, 0, 0, 0, 0, 0, 0, 0, 0, 0,\n",
       "         0, 0, 0, 0, 0, 0, 0, 0, 0, 0, 0, 0, 0, 0, 0, 0, 0, 0, 0, 0, 0,\n",
       "         0, 0, 0, 0, 0, 0, 0, 0, 0, 0, 0, 0, 0, 0, 0, 0, 0, 0, 0, 0, 0,\n",
       "         0, 0, 0, 0, 0, 0, 0, 0, 0, 0, 0, 0, 0, 0, 0, 0, 0, 0, 0, 0, 0,\n",
       "         0, 0, 0, 0, 0, 0, 0, 0, 0, 0, 0, 0, 0, 0, 0, 1, 0, 0, 0, 0, 0,\n",
       "         0, 0, 0, 0, 0, 0, 0, 0, 0, 0, 0, 0, 0, 0, 0, 0, 0, 0, 0, 0, 0,\n",
       "         0, 0, 0, 0, 0, 0, 0, 1, 0, 0, 0, 0, 0, 0, 0, 0, 0, 0, 0, 0, 1,\n",
       "         0, 1, 0, 0, 0, 0, 0, 0, 0, 0, 0, 0, 0, 1, 0, 0, 0, 0, 0, 0, 0,\n",
       "         0, 0, 0, 0, 0, 0, 0, 0, 0, 0, 0, 0, 0, 0, 0, 0, 0, 0, 0, 0, 0,\n",
       "         0, 0, 0, 0, 0, 0, 0, 0, 1, 0, 0, 0, 0, 0, 0, 0, 0, 0, 0, 0, 0,\n",
       "         0, 0, 0, 0, 0, 0, 0, 0, 0, 0, 0, 0, 0, 0, 0, 0, 0, 0, 0, 0, 0,\n",
       "         0, 0, 0, 0, 0, 0, 0, 0, 0, 0, 0, 1, 1, 0, 0, 0, 0, 0, 0, 0, 0,\n",
       "         0, 0, 0, 0, 0, 0, 0, 0, 0, 0, 0, 0, 0, 0, 0, 0, 0, 0, 0, 0, 0,\n",
       "         0, 0, 0, 0, 0, 0, 0, 0, 0, 0, 0, 0, 0, 0, 0, 0, 0, 0, 1, 0, 0,\n",
       "         0, 0, 0, 0, 1, 0, 0, 0, 0, 0, 0, 0, 1, 0, 0, 0, 0, 0, 0, 0, 0,\n",
       "         0, 0, 0, 0, 1, 0, 0, 0, 0, 0, 0, 0, 0, 0, 0, 0, 0, 0, 0, 0, 0,\n",
       "         0, 0, 0, 0, 0, 0, 0, 0, 0, 0, 0, 0, 0, 0, 0, 0, 0, 0, 0, 0, 0,\n",
       "         0, 0, 0, 0, 0, 0, 0, 0, 0, 0, 0, 0, 0, 0, 0, 0, 0, 0, 0, 0, 0,\n",
       "         0, 0, 0, 0, 0, 0, 0, 0, 0, 0, 0, 0, 0, 0, 0, 0, 0, 0, 0, 0, 0,\n",
       "         0, 0, 0, 0, 0, 0, 0, 0, 0, 0, 0, 0, 0, 0, 0, 0, 0, 0, 0, 0, 0,\n",
       "         0, 0, 0, 0, 0, 0, 0, 0, 0, 0, 0, 0, 0, 0, 0, 0, 0, 0, 0, 0, 0,\n",
       "         0, 0, 0, 0, 0, 1, 0, 0, 0, 0, 0, 0, 0, 0, 0, 0, 0, 0, 0, 0, 0,\n",
       "         0, 0, 0, 0, 0, 0, 0, 0, 0, 0, 0, 0, 0, 0, 0, 0, 0, 0, 0, 0, 0,\n",
       "         0, 0, 0, 0, 0, 0, 1, 0, 0, 0, 0, 0, 0, 0, 0, 0, 0, 0, 0, 0, 0,\n",
       "         0, 0, 0, 0, 0, 0, 0, 0, 0, 0, 0, 0, 0, 0, 0, 0, 0, 0, 0, 0, 0,\n",
       "         0, 0, 0, 0, 0, 0, 0, 0, 0, 0, 0, 0, 0, 0, 0, 0, 0, 0, 0, 0, 0,\n",
       "         0, 0, 0, 0, 0, 0, 0, 0, 1, 0, 0, 0, 0, 0, 0, 0, 0, 0, 0, 0, 0,\n",
       "         0, 1, 0, 0, 1, 0, 0, 0, 0, 0, 0, 0, 0, 0, 0, 0, 1, 0, 0, 0, 0,\n",
       "         0, 0, 0, 0, 0, 0, 0, 0, 0, 0, 0, 0, 0, 0, 0, 0, 0, 0, 1, 0, 0,\n",
       "         0, 0, 0, 0, 0, 0, 0, 0, 1, 0, 0, 0, 0, 0, 0, 0, 1, 0, 0, 0, 0,\n",
       "         0, 0, 0, 0, 0, 0, 0, 0, 0, 0, 0, 0, 0, 0, 0, 0, 0, 0, 0, 0, 0,\n",
       "         0, 0, 0, 0, 0, 0, 0, 0, 0, 0, 0, 0, 0, 0, 0, 0, 0, 1, 0, 0, 0,\n",
       "         0, 0, 0, 0, 0, 0, 0, 0, 0, 0, 0, 0, 0, 0, 0, 0, 0, 0, 0, 0, 0,\n",
       "         0, 0, 0, 0, 0, 0, 0, 0, 0, 0, 0, 0, 0, 0, 0, 0, 0, 0, 0, 0, 0,\n",
       "         0, 0, 1, 0, 0, 0, 1, 0, 0, 0, 0, 0, 0, 0, 0, 0, 0, 0, 0, 0, 0,\n",
       "         0, 0, 0, 0, 0, 1, 0, 0, 0, 0, 0, 0, 0, 0, 0, 0, 0, 0, 0, 0, 0,\n",
       "         0, 0, 0, 0, 0, 0, 0, 0, 0, 0]]])"
      ]
     },
     "execution_count": 70,
     "metadata": {},
     "output_type": "execute_result"
    }
   ],
   "source": [
    "np.array([[dftrain[0]]])"
   ]
  }
 ],
 "metadata": {
  "kernelspec": {
   "display_name": "Python 3",
   "language": "python",
   "name": "python3"
  },
  "language_info": {
   "codemirror_mode": {
    "name": "ipython",
    "version": 3
   },
   "file_extension": ".py",
   "mimetype": "text/x-python",
   "name": "python",
   "nbconvert_exporter": "python",
   "pygments_lexer": "ipython3",
   "version": "3.8.8"
  }
 },
 "nbformat": 4,
 "nbformat_minor": 5
}
